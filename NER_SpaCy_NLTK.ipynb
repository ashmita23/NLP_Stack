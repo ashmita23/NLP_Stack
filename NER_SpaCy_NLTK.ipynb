{
 "cells": [
  {
   "cell_type": "code",
   "execution_count": 1,
   "metadata": {},
   "outputs": [],
   "source": [
    "import pandas as pd\n",
    "\n",
    "pd.set_option('display.max_rows', 100)\n",
    "pd.set_option('display.max_columns', None)\n",
    "pd.set_option('display.max_colwidth', 500)"
   ]
  },
  {
   "cell_type": "markdown",
   "metadata": {},
   "source": [
    "#### Read news data"
   ]
  },
  {
   "cell_type": "code",
   "execution_count": 2,
   "metadata": {},
   "outputs": [
    {
     "name": "stdout",
     "output_type": "stream",
     "text": [
      "Sample contains 10,012 news articles\n"
     ]
    },
    {
     "data": {
      "text/html": [
       "<div>\n",
       "<style scoped>\n",
       "    .dataframe tbody tr th:only-of-type {\n",
       "        vertical-align: middle;\n",
       "    }\n",
       "\n",
       "    .dataframe tbody tr th {\n",
       "        vertical-align: top;\n",
       "    }\n",
       "\n",
       "    .dataframe thead th {\n",
       "        text-align: right;\n",
       "    }\n",
       "</style>\n",
       "<table border=\"1\" class=\"dataframe\">\n",
       "  <thead>\n",
       "    <tr style=\"text-align: right;\">\n",
       "      <th></th>\n",
       "      <th>url</th>\n",
       "      <th>date</th>\n",
       "      <th>language</th>\n",
       "      <th>title</th>\n",
       "      <th>text</th>\n",
       "    </tr>\n",
       "  </thead>\n",
       "  <tbody>\n",
       "    <tr>\n",
       "      <th>0</th>\n",
       "      <td>http://kokomoperspective.com/obituaries/jon-w-horton/article_b6ba8e1e-cb9c-11eb-9868-fb11b88b9778.html</td>\n",
       "      <td>2021-06-13</td>\n",
       "      <td>en</td>\n",
       "      <td>Jon W. Horton | Obituaries | kokomoperspective.com</td>\n",
       "      <td>Jon W. Horton | Obituaries | kokomoperspective.comYou have permission to edit this article. EditCloseSign Up                        Log In                    Dashboard  LogoutMy Account Dashboard Profile Saved items LogoutCOVID-19Click here for the latest local news on COVID-19HomeAbout UsContact UsNewsLocalOpinionPoliticsNationalStateAgricultureLifestylesEngagements/Anniversaries/WeddingsAutosEntertainmentHealthHomesOutdoorsSportsNFLNCAAVitalsObituariesAutomotivee-EditionCouponsGalleries74°...</td>\n",
       "    </tr>\n",
       "    <tr>\n",
       "      <th>1</th>\n",
       "      <td>https://auto.economictimes.indiatimes.com/news/auto-components/birla-precision-to-ramp-up-capacity-to-tap-emerging-opportunities-in-india/81254902</td>\n",
       "      <td>2021-02-28</td>\n",
       "      <td>en</td>\n",
       "      <td>Birla Precision to ramp up capacity to tap emerging opportunities in India, Auto News, ET Auto</td>\n",
       "      <td>Birla Precision to ramp up capacity to tap emerging opportunities in India, Auto News, ET Auto     We have updated our terms and conditions and privacy policy Click \"Continue\" to accept and continue with ET AutoAccept the updated privacy &amp; cookie policyDear user, ET Auto privacy and cookie policy has been updated to align with the new data regulations in European Union. Please review and accept these changes below to continue using the website.You can see our privacy policy &amp; our cookie ...</td>\n",
       "    </tr>\n",
       "    <tr>\n",
       "      <th>2</th>\n",
       "      <td>https://ca.sports.yahoo.com/news/global-hydrogen-fueling-station-markets-104800330.html?src=rss</td>\n",
       "      <td>2021-12-07</td>\n",
       "      <td>en</td>\n",
       "      <td>Global Hydrogen Fueling Station Markets to 2035: Current State and Future Prognosis of Passenger Hydrogen Fuel Cell Vehicles (FCVs)</td>\n",
       "      <td>Global Hydrogen Fueling Station Markets to 2035: Current State and Future Prognosis of Passenger Hydrogen Fuel Cell Vehicles (FCVs)        HOME    MAIL    NEWS    SPORTS    FINANCE    CELEBRITY    STYLE    MOVIES    WEATHER    MOBILE           Yahoo Sports Sign in   Mail Sign in to view your mail    Sports Home   Sports Home  Fantasy   Fantasy   Fantasy FootballFantasy Football Fantasy HockeyFantasy Hockey Fantasy BasketballFantasy Basketball Fantasy Auto RacingFantasy Auto Racing Fantasy Go...</td>\n",
       "    </tr>\n",
       "    <tr>\n",
       "      <th>3</th>\n",
       "      <td>https://cardealermagazine.co.uk/publish/july-20-backlash-over-covid-passports-cummings-leaks-more-pm-texts-extreme-heat-warning-anniversary-mini-cooper-jcw-revealed/228570</td>\n",
       "      <td>2021-07-20</td>\n",
       "      <td>en</td>\n",
       "      <td>July 20: Backlash over Covid passports; Cummings leaks more PM texts; Extreme heat warning; Anniversary Mini Cooper JCW revealed – Car Dealer Magazine</td>\n",
       "      <td>July 20: Backlash over Covid passports; Cummings leaks more PM texts; Extreme heat warning; Anniversary Mini Cooper JCW revealed – Car Dealer Magazine Log inCar Dealer Magazine LogoThe logo for Car Dealer Magazine Log inLatestUsed CarsLiveForumJobsPowerUCA 2020UCA 2021KnowledgeSuppliers GuideLatest IssueTop 100Home &gt; News Round-Up &gt; July 20: Backlash over Covid passports; Cummings leaks more PM texts; Extreme heat warning; Anniversary Mini Cooper JCW revealedNews Round-UpJuly 20: Backlash ov...</td>\n",
       "    </tr>\n",
       "    <tr>\n",
       "      <th>4</th>\n",
       "      <td>https://fox5sandiego.com/news/local-news/nonprofit-threatens-lawsuit-over-whales-found-dead-at-naval-base-san-diego/</td>\n",
       "      <td>2021-05-17</td>\n",
       "      <td>en</td>\n",
       "      <td>Nonprofit threatens lawsuit over whales found dead at Naval Base San Diego | FOX 5 San Diego</td>\n",
       "      <td>Nonprofit threatens lawsuit over whales found dead at Naval Base San Diego | FOX 5 San DiegoSkip to contentFOX 5 San DiegoSan Diego65°Sponsored By Toggle MenuOpen NavigationClose NavigationSearchPrimary MenuVideoFOX 5 News LiveLive EventsFOX 5 News NowVideo CenterFOX 5 Program ScheduleNewsNews AppsEmail NewslettersNews tips and story ideasLocalCaliforniaNationalWorldCOVID-19HealthEarthquakesEntertainmentBusinessTechnologyMorning NewsAuto UpdateVideo Game &amp; Pop Culture NewsPoliticsTrafficExp...</td>\n",
       "    </tr>\n",
       "    <tr>\n",
       "      <th>5</th>\n",
       "      <td>https://indianautosblog.com/2021-tata-safari-officially-teased-p322272</td>\n",
       "      <td>2021-01-10</td>\n",
       "      <td>en</td>\n",
       "      <td>2021 Tata Safari Officially Teased Ahead Of Debut On January 26, 2021</td>\n",
       "      <td>2021 Tata Safari Officially Teased Ahead Of Debut On January 26, 2021                      HOME  CAR NEWS   Alfa Romeo Audi Bentley BMW Bugatti Chevrolet Citroen Dacia Daihatsu Datsun   DC Design Ferrari Fiat Ford Honda Hyundai Infiniti Isuzu Jaguar Jeep   Kia Lada Lamborghini Land Rover Lexus Mahindra Maruti Suzuki Maserati Mazda McLaren   Mercedes-Benz Mini Mitsubishi Nissan Opel Perodua Peugeot Porsche Proton Renault   Rolls Royce Skoda Ssangyong Suzuki Tata Tesla Toyota Volkswag...</td>\n",
       "    </tr>\n",
       "    <tr>\n",
       "      <th>6</th>\n",
       "      <td>https://kdvr.com/news/local/2021-sounds-exciting-summer-concert-series/</td>\n",
       "      <td>2021-04-27</td>\n",
       "      <td>en</td>\n",
       "      <td>Lakewood announces lineup for 2021 Sounds Exciting! Summer Concert Series</td>\n",
       "      <td>Lakewood announces lineup for 2021 Sounds Exciting! Summer Concert SeriesSkip to contentFOX31 DenverDenver69°Sponsored By Toggle MenuOpen NavigationClose NavigationSearchPrimary Menu🔴  Watch LiveAll Live StreamsWatch Latest VideosFOX31 &amp; Channel 2 Live Stream Schedule🔴  FOX31 NOW🔴  FOX31 Live Stream🔴  Channel 2 Live Stream🔴  Live Cam: DIAVaccine FinderNewsLocal NewsGrocery Store TragedyNational/WorldCoronavirusTrafficProblem SolversData DeskPoliticsHealthMoneyTechServing Those Who ServeSupp...</td>\n",
       "    </tr>\n",
       "    <tr>\n",
       "      <th>7</th>\n",
       "      <td>https://pledgetimes.com/princesses-hostages-and-mystery-where-is-shamsa-the-other-daughter-of-the-emir-of-dubai-who-disappeared-20-years-ago/</td>\n",
       "      <td>2021-02-26</td>\n",
       "      <td>en</td>\n",
       "      <td>Princesses, hostages and mystery: Where is Shamsa, the other daughter of the Emir of Dubai who disappeared 20 years ago? – Pledge Times</td>\n",
       "      <td>Princesses, hostages and mystery: Where is Shamsa, the other daughter of the Emir of Dubai who disappeared 20 years ago? – Pledge Times About UsT &amp; CDisclaimer for Pledge TimesWrite To Us PledgeTimes   HomeWorldLifestyleBusinessEntertainmentSportsNo Result  View All Result    HomeWorldLifestyleBusinessEntertainmentSportsNo Result  View All Result     PledgeTimes  No Result  View All Result     HomeWorld Princesses, hostages and mystery: Where is Shamsa, the other daughter of the Emir of Du...</td>\n",
       "    </tr>\n",
       "    <tr>\n",
       "      <th>8</th>\n",
       "      <td>https://www.atlanticfinancialmanagement.co.uk/pressroom/news/378191/consumer-autonomous-vehicles-apple-audi-baidu-bmw/</td>\n",
       "      <td>2021-02-23</td>\n",
       "      <td>en</td>\n",
       "      <td>Consumer Autonomous Vehicles Apple, Audi, Baidu, BMW – Atlantic Financial Management</td>\n",
       "      <td>Consumer Autonomous Vehicles Apple, Audi, Baidu, BMW – Atlantic Financial ManagementSkip to contentTue. Feb 23rd, 2021                          Atlantic Financial Management    EnergyPressroomSpaceAll NewsContact                                        News                                                 Consumer Autonomous Vehicles Apple, Audi, Baidu, BMW  Bycontrivedatuminsights                       Feb 23, 2021Apple, Audi, Baidu, BMW, Bosch, Consumer Autonomous Vehicles Market, Consumer A...</td>\n",
       "    </tr>\n",
       "    <tr>\n",
       "      <th>9</th>\n",
       "      <td>https://www.autocar.co.uk/car-review/porsche/911/first-drives/porsche-911-gts-2021-uk-review</td>\n",
       "      <td>2021-10-22</td>\n",
       "      <td>en</td>\n",
       "      <td>Porsche 911 GTS 2021 UK review | Autocar</td>\n",
       "      <td>Porsche 911 GTS 2021 UK review | Autocar Car ReviewsLatest car reviewsIn-depth road test reviewsFirst drive reviewsLong-term reviewsTop 10s: Best Cars on saleVideo reviewsCar NewsLatest newsAdviceOpinionsFeaturesUsed carsUsed car homeUsed car dealsNearly new buying guidesUsed car buying guidesElectricMotorsportBusinessOffersGap InsuranceWarrantyLeasingSell your carSubscribeSubscribe to magazineAutocar Newsletter…Car ReviewsLatest car reviewsIn-depth road test reviewsFirst drive reviewsLong-t...</td>\n",
       "    </tr>\n",
       "  </tbody>\n",
       "</table>\n",
       "</div>"
      ],
      "text/plain": [
       "                                                                                                                                                                           url  \\\n",
       "0                                                                       http://kokomoperspective.com/obituaries/jon-w-horton/article_b6ba8e1e-cb9c-11eb-9868-fb11b88b9778.html   \n",
       "1                           https://auto.economictimes.indiatimes.com/news/auto-components/birla-precision-to-ramp-up-capacity-to-tap-emerging-opportunities-in-india/81254902   \n",
       "2                                                                              https://ca.sports.yahoo.com/news/global-hydrogen-fueling-station-markets-104800330.html?src=rss   \n",
       "3  https://cardealermagazine.co.uk/publish/july-20-backlash-over-covid-passports-cummings-leaks-more-pm-texts-extreme-heat-warning-anniversary-mini-cooper-jcw-revealed/228570   \n",
       "4                                                         https://fox5sandiego.com/news/local-news/nonprofit-threatens-lawsuit-over-whales-found-dead-at-naval-base-san-diego/   \n",
       "5                                                                                                       https://indianautosblog.com/2021-tata-safari-officially-teased-p322272   \n",
       "6                                                                                                      https://kdvr.com/news/local/2021-sounds-exciting-summer-concert-series/   \n",
       "7                                https://pledgetimes.com/princesses-hostages-and-mystery-where-is-shamsa-the-other-daughter-of-the-emir-of-dubai-who-disappeared-20-years-ago/   \n",
       "8                                                       https://www.atlanticfinancialmanagement.co.uk/pressroom/news/378191/consumer-autonomous-vehicles-apple-audi-baidu-bmw/   \n",
       "9                                                                                 https://www.autocar.co.uk/car-review/porsche/911/first-drives/porsche-911-gts-2021-uk-review   \n",
       "\n",
       "        date language  \\\n",
       "0 2021-06-13       en   \n",
       "1 2021-02-28       en   \n",
       "2 2021-12-07       en   \n",
       "3 2021-07-20       en   \n",
       "4 2021-05-17       en   \n",
       "5 2021-01-10       en   \n",
       "6 2021-04-27       en   \n",
       "7 2021-02-26       en   \n",
       "8 2021-02-23       en   \n",
       "9 2021-10-22       en   \n",
       "\n",
       "                                                                                                                                                    title  \\\n",
       "0                                                                                                      Jon W. Horton | Obituaries | kokomoperspective.com   \n",
       "1                                                          Birla Precision to ramp up capacity to tap emerging opportunities in India, Auto News, ET Auto   \n",
       "2                     Global Hydrogen Fueling Station Markets to 2035: Current State and Future Prognosis of Passenger Hydrogen Fuel Cell Vehicles (FCVs)   \n",
       "3  July 20: Backlash over Covid passports; Cummings leaks more PM texts; Extreme heat warning; Anniversary Mini Cooper JCW revealed – Car Dealer Magazine   \n",
       "4                                                            Nonprofit threatens lawsuit over whales found dead at Naval Base San Diego | FOX 5 San Diego   \n",
       "5                                                                                   2021 Tata Safari Officially Teased Ahead Of Debut On January 26, 2021   \n",
       "6                                                                               Lakewood announces lineup for 2021 Sounds Exciting! Summer Concert Series   \n",
       "7                 Princesses, hostages and mystery: Where is Shamsa, the other daughter of the Emir of Dubai who disappeared 20 years ago? – Pledge Times   \n",
       "8                                                                    Consumer Autonomous Vehicles Apple, Audi, Baidu, BMW – Atlantic Financial Management   \n",
       "9                                                                                                                Porsche 911 GTS 2021 UK review | Autocar   \n",
       "\n",
       "                                                                                                                                                                                                                                                                                                                                                                                                                                                                                                                  text  \n",
       "0  Jon W. Horton | Obituaries | kokomoperspective.comYou have permission to edit this article. EditCloseSign Up                        Log In                    Dashboard  LogoutMy Account Dashboard Profile Saved items LogoutCOVID-19Click here for the latest local news on COVID-19HomeAbout UsContact UsNewsLocalOpinionPoliticsNationalStateAgricultureLifestylesEngagements/Anniversaries/WeddingsAutosEntertainmentHealthHomesOutdoorsSportsNFLNCAAVitalsObituariesAutomotivee-EditionCouponsGalleries74°...  \n",
       "1      Birla Precision to ramp up capacity to tap emerging opportunities in India, Auto News, ET Auto     We have updated our terms and conditions and privacy policy Click \"Continue\" to accept and continue with ET AutoAccept the updated privacy & cookie policyDear user, ET Auto privacy and cookie policy has been updated to align with the new data regulations in European Union. Please review and accept these changes below to continue using the website.You can see our privacy policy & our cookie ...  \n",
       "2  Global Hydrogen Fueling Station Markets to 2035: Current State and Future Prognosis of Passenger Hydrogen Fuel Cell Vehicles (FCVs)        HOME    MAIL    NEWS    SPORTS    FINANCE    CELEBRITY    STYLE    MOVIES    WEATHER    MOBILE           Yahoo Sports Sign in   Mail Sign in to view your mail    Sports Home   Sports Home  Fantasy   Fantasy   Fantasy FootballFantasy Football Fantasy HockeyFantasy Hockey Fantasy BasketballFantasy Basketball Fantasy Auto RacingFantasy Auto Racing Fantasy Go...  \n",
       "3  July 20: Backlash over Covid passports; Cummings leaks more PM texts; Extreme heat warning; Anniversary Mini Cooper JCW revealed – Car Dealer Magazine Log inCar Dealer Magazine LogoThe logo for Car Dealer Magazine Log inLatestUsed CarsLiveForumJobsPowerUCA 2020UCA 2021KnowledgeSuppliers GuideLatest IssueTop 100Home > News Round-Up > July 20: Backlash over Covid passports; Cummings leaks more PM texts; Extreme heat warning; Anniversary Mini Cooper JCW revealedNews Round-UpJuly 20: Backlash ov...  \n",
       "4   Nonprofit threatens lawsuit over whales found dead at Naval Base San Diego | FOX 5 San DiegoSkip to contentFOX 5 San DiegoSan Diego65°Sponsored By Toggle MenuOpen NavigationClose NavigationSearchPrimary MenuVideoFOX 5 News LiveLive EventsFOX 5 News NowVideo CenterFOX 5 Program ScheduleNewsNews AppsEmail NewslettersNews tips and story ideasLocalCaliforniaNationalWorldCOVID-19HealthEarthquakesEntertainmentBusinessTechnologyMorning NewsAuto UpdateVideo Game & Pop Culture NewsPoliticsTrafficExp...  \n",
       "5           2021 Tata Safari Officially Teased Ahead Of Debut On January 26, 2021                      HOME  CAR NEWS   Alfa Romeo Audi Bentley BMW Bugatti Chevrolet Citroen Dacia Daihatsu Datsun   DC Design Ferrari Fiat Ford Honda Hyundai Infiniti Isuzu Jaguar Jeep   Kia Lada Lamborghini Land Rover Lexus Mahindra Maruti Suzuki Maserati Mazda McLaren   Mercedes-Benz Mini Mitsubishi Nissan Opel Perodua Peugeot Porsche Proton Renault   Rolls Royce Skoda Ssangyong Suzuki Tata Tesla Toyota Volkswag...  \n",
       "6   Lakewood announces lineup for 2021 Sounds Exciting! Summer Concert SeriesSkip to contentFOX31 DenverDenver69°Sponsored By Toggle MenuOpen NavigationClose NavigationSearchPrimary Menu🔴  Watch LiveAll Live StreamsWatch Latest VideosFOX31 & Channel 2 Live Stream Schedule🔴  FOX31 NOW🔴  FOX31 Live Stream🔴  Channel 2 Live Stream🔴  Live Cam: DIAVaccine FinderNewsLocal NewsGrocery Store TragedyNational/WorldCoronavirusTrafficProblem SolversData DeskPoliticsHealthMoneyTechServing Those Who ServeSupp...  \n",
       "7    Princesses, hostages and mystery: Where is Shamsa, the other daughter of the Emir of Dubai who disappeared 20 years ago? – Pledge Times About UsT & CDisclaimer for Pledge TimesWrite To Us PledgeTimes   HomeWorldLifestyleBusinessEntertainmentSportsNo Result  View All Result    HomeWorldLifestyleBusinessEntertainmentSportsNo Result  View All Result     PledgeTimes  No Result  View All Result     HomeWorld Princesses, hostages and mystery: Where is Shamsa, the other daughter of the Emir of Du...  \n",
       "8  Consumer Autonomous Vehicles Apple, Audi, Baidu, BMW – Atlantic Financial ManagementSkip to contentTue. Feb 23rd, 2021                          Atlantic Financial Management    EnergyPressroomSpaceAll NewsContact                                        News                                                 Consumer Autonomous Vehicles Apple, Audi, Baidu, BMW  Bycontrivedatuminsights                       Feb 23, 2021Apple, Audi, Baidu, BMW, Bosch, Consumer Autonomous Vehicles Market, Consumer A...  \n",
       "9  Porsche 911 GTS 2021 UK review | Autocar Car ReviewsLatest car reviewsIn-depth road test reviewsFirst drive reviewsLong-term reviewsTop 10s: Best Cars on saleVideo reviewsCar NewsLatest newsAdviceOpinionsFeaturesUsed carsUsed car homeUsed car dealsNearly new buying guidesUsed car buying guidesElectricMotorsportBusinessOffersGap InsuranceWarrantyLeasingSell your carSubscribeSubscribe to magazineAutocar Newsletter…Car ReviewsLatest car reviewsIn-depth road test reviewsFirst drive reviewsLong-t...  "
      ]
     },
     "execution_count": 2,
     "metadata": {},
     "output_type": "execute_result"
    }
   ],
   "source": [
    "news_path = 'https://storage.googleapis.com/msca-bdp-data-open/news/nlp_a_5_news.json'\n",
    "news_df = pd.read_json(news_path, orient='records', lines=True)\n",
    "\n",
    "print(f'Sample contains {news_df.shape[0]:,.0f} news articles')\n",
    "news_df.head(10)"
   ]
  },
  {
   "cell_type": "markdown",
   "metadata": {},
   "source": [
    "#### Read Tweets data"
   ]
  },
  {
   "cell_type": "code",
   "execution_count": 3,
   "metadata": {},
   "outputs": [
    {
     "name": "stdout",
     "output_type": "stream",
     "text": [
      "Sample contains 10,105 tweets\n"
     ]
    },
    {
     "data": {
      "text/html": [
       "<div>\n",
       "<style scoped>\n",
       "    .dataframe tbody tr th:only-of-type {\n",
       "        vertical-align: middle;\n",
       "    }\n",
       "\n",
       "    .dataframe tbody tr th {\n",
       "        vertical-align: top;\n",
       "    }\n",
       "\n",
       "    .dataframe thead th {\n",
       "        text-align: right;\n",
       "    }\n",
       "</style>\n",
       "<table border=\"1\" class=\"dataframe\">\n",
       "  <thead>\n",
       "    <tr style=\"text-align: right;\">\n",
       "      <th></th>\n",
       "      <th>id</th>\n",
       "      <th>lang</th>\n",
       "      <th>date</th>\n",
       "      <th>name</th>\n",
       "      <th>retweeted</th>\n",
       "      <th>text</th>\n",
       "    </tr>\n",
       "  </thead>\n",
       "  <tbody>\n",
       "    <tr>\n",
       "      <th>0</th>\n",
       "      <td>1534565117614084096</td>\n",
       "      <td>en</td>\n",
       "      <td>2022-06-08</td>\n",
       "      <td>Low Orbit Tourist 🌍📷</td>\n",
       "      <td></td>\n",
       "      <td>Body &amp;amp; Assembly - Halewood - United Kingdom\\n🌍53.3504,-2.8352296,402m\\n\\nHalewood Body &amp;amp; Assembly is a Jaguar Land Rover factory in Halewood, England, and forms the major part of the Halewood complex which is shared with Ford who manufacture transmissions at the site. [Wikipedia] https://t.co/LPmCnZIaVt</td>\n",
       "    </tr>\n",
       "    <tr>\n",
       "      <th>1</th>\n",
       "      <td>1534565743429394439</td>\n",
       "      <td>en</td>\n",
       "      <td>2022-06-08</td>\n",
       "      <td>CompleteCar.ie</td>\n",
       "      <td>RT</td>\n",
       "      <td>Land Rover Ireland has announced that the new Range Rover Sport starts at €114,150, now on @completecar:\\n\\nhttps://t.co/TjGUkL3FYr https://t.co/QdVaEiJkjO</td>\n",
       "    </tr>\n",
       "  </tbody>\n",
       "</table>\n",
       "</div>"
      ],
      "text/plain": [
       "                    id lang       date                  name retweeted  \\\n",
       "0  1534565117614084096   en 2022-06-08  Low Orbit Tourist 🌍📷             \n",
       "1  1534565743429394439   en 2022-06-08        CompleteCar.ie        RT   \n",
       "\n",
       "                                                                                                                                                                                                                                                                                                                       text  \n",
       "0  Body &amp; Assembly - Halewood - United Kingdom\\n🌍53.3504,-2.8352296,402m\\n\\nHalewood Body &amp; Assembly is a Jaguar Land Rover factory in Halewood, England, and forms the major part of the Halewood complex which is shared with Ford who manufacture transmissions at the site. [Wikipedia] https://t.co/LPmCnZIaVt  \n",
       "1                                                                                                                                                               Land Rover Ireland has announced that the new Range Rover Sport starts at €114,150, now on @completecar:\\n\\nhttps://t.co/TjGUkL3FYr https://t.co/QdVaEiJkjO  "
      ]
     },
     "execution_count": 3,
     "metadata": {},
     "output_type": "execute_result"
    }
   ],
   "source": [
    "tweets_path = 'https://storage.googleapis.com/msca-bdp-data-open/tweets/nlp_a_5_tweets.json'\n",
    "tweets_df = pd.read_json(tweets_path, orient='records', lines=True)\n",
    "print(f'Sample contains {tweets_df.shape[0]:,.0f} tweets')\n",
    "tweets_df.head(2)"
   ]
  },
  {
   "cell_type": "code",
   "execution_count": 4,
   "metadata": {},
   "outputs": [],
   "source": [
    "import nltk\n",
    "def cleaner(x):\n",
    "    stopwords = set(nltk.corpus.stopwords.words('english'))\n",
    "    x = nltk.tokenize.word_tokenize(x)\n",
    "    x = [nltk.WordNetLemmatizer().lemmatize(word) for word in x]\n",
    "    x = [word for word in x if len(word) > 1 and word != '.']\n",
    "    x = [word for word in x if word not in stopwords]\n",
    "    return(x)"
   ]
  },
  {
   "cell_type": "code",
   "execution_count": 5,
   "metadata": {},
   "outputs": [
    {
     "data": {
      "text/html": [
       "<div>\n",
       "<style scoped>\n",
       "    .dataframe tbody tr th:only-of-type {\n",
       "        vertical-align: middle;\n",
       "    }\n",
       "\n",
       "    .dataframe tbody tr th {\n",
       "        vertical-align: top;\n",
       "    }\n",
       "\n",
       "    .dataframe thead th {\n",
       "        text-align: right;\n",
       "    }\n",
       "</style>\n",
       "<table border=\"1\" class=\"dataframe\">\n",
       "  <thead>\n",
       "    <tr style=\"text-align: right;\">\n",
       "      <th></th>\n",
       "      <th>id</th>\n",
       "      <th>lang</th>\n",
       "      <th>date</th>\n",
       "      <th>name</th>\n",
       "      <th>retweeted</th>\n",
       "      <th>text</th>\n",
       "    </tr>\n",
       "  </thead>\n",
       "  <tbody>\n",
       "    <tr>\n",
       "      <th>0</th>\n",
       "      <td>1534565117614084096</td>\n",
       "      <td>en</td>\n",
       "      <td>2022-06-08</td>\n",
       "      <td>Low Orbit Tourist 🌍📷</td>\n",
       "      <td></td>\n",
       "      <td>Body &amp;amp; Assembly - Halewood - United Kingdom\\n🌍53.3504,-2.8352296,402m\\n\\nHalewood Body &amp;amp; Assembly is a Jaguar Land Rover factory in Halewood, England, and forms the major part of the Halewood complex which is shared with Ford who manufacture transmissions at the site. [Wikipedia] https://t.co/LPmCnZIaVt</td>\n",
       "    </tr>\n",
       "    <tr>\n",
       "      <th>1</th>\n",
       "      <td>1534565743429394439</td>\n",
       "      <td>en</td>\n",
       "      <td>2022-06-08</td>\n",
       "      <td>CompleteCar.ie</td>\n",
       "      <td>RT</td>\n",
       "      <td>Land Rover Ireland has announced that the new Range Rover Sport starts at €114,150, now on @completecar:\\n\\nhttps://t.co/TjGUkL3FYr https://t.co/QdVaEiJkjO</td>\n",
       "    </tr>\n",
       "    <tr>\n",
       "      <th>2</th>\n",
       "      <td>1529341557580652545</td>\n",
       "      <td>en</td>\n",
       "      <td>2022-05-25</td>\n",
       "      <td>Exmoor Trim</td>\n",
       "      <td></td>\n",
       "      <td>New Land Rover Range Rover Hits Top Speed With Ease On Autobahn\\n\\nhttps://t.co/19QOgAIu3v</td>\n",
       "    </tr>\n",
       "    <tr>\n",
       "      <th>3</th>\n",
       "      <td>1542790343535755264</td>\n",
       "      <td>en</td>\n",
       "      <td>2022-07-01</td>\n",
       "      <td>Land Rover UK</td>\n",
       "      <td></td>\n",
       "      <td>@BeckyWatts1 Hi, thank you for your post. I am sorry to learn of your retailer experience, however when order slots are available they will be presented to the retailer, and it is at their discretion which vehicles they submit. Please continue to liaise with them. Thanks, Dan - Land Rover UK</td>\n",
       "    </tr>\n",
       "    <tr>\n",
       "      <th>4</th>\n",
       "      <td>1516732103370493954</td>\n",
       "      <td>en</td>\n",
       "      <td>2022-04-20</td>\n",
       "      <td>Sussexes❤️👑🐼🌸</td>\n",
       "      <td></td>\n",
       "      <td>@cofvefe917 @Mackingday No this was during the Land Rover driving challenge.</td>\n",
       "    </tr>\n",
       "    <tr>\n",
       "      <th>...</th>\n",
       "      <td>...</td>\n",
       "      <td>...</td>\n",
       "      <td>...</td>\n",
       "      <td>...</td>\n",
       "      <td>...</td>\n",
       "      <td>...</td>\n",
       "    </tr>\n",
       "    <tr>\n",
       "      <th>10100</th>\n",
       "      <td>1523410294554652672</td>\n",
       "      <td>en</td>\n",
       "      <td>2022-05-08</td>\n",
       "      <td>NOT A BOT</td>\n",
       "      <td>RT</td>\n",
       "      <td>The Land Rover Driving Challenge is a test of skill and precision and it certainly delivered some great moments at #IG22 💛🖤 https://t.co/p79BOnWMU3</td>\n",
       "    </tr>\n",
       "    <tr>\n",
       "      <th>10101</th>\n",
       "      <td>1508913706100527112</td>\n",
       "      <td>en</td>\n",
       "      <td>2022-03-29</td>\n",
       "      <td>Flossy</td>\n",
       "      <td>RT</td>\n",
       "      <td>I hope they aren’t going to leave the service standing in a Land Rover. #PrincePhilip #idiocracy</td>\n",
       "    </tr>\n",
       "    <tr>\n",
       "      <th>10102</th>\n",
       "      <td>1513043619308969984</td>\n",
       "      <td>en</td>\n",
       "      <td>2022-04-10</td>\n",
       "      <td>Racks Car and Truck</td>\n",
       "      <td></td>\n",
       "      <td>OEM 1999 Land Rover Discovery 1 Roof Rack 2 Rails &amp;amp; 3 Cross Support Bars (95-99) https://t.co/SE6DuEqtYi eBay</td>\n",
       "    </tr>\n",
       "    <tr>\n",
       "      <th>10103</th>\n",
       "      <td>1503204155694862339</td>\n",
       "      <td>en</td>\n",
       "      <td>2022-03-14</td>\n",
       "      <td>Racks Car and Truck</td>\n",
       "      <td></td>\n",
       "      <td>For Land Rover Discovery 2005-2016 LR3 LR4 Roof Racks Top Baggage Cross Bar https://t.co/bpKBijALbU eBay https://t.co/22b4EiJLqv</td>\n",
       "    </tr>\n",
       "    <tr>\n",
       "      <th>10104</th>\n",
       "      <td>1521363091224674304</td>\n",
       "      <td>en</td>\n",
       "      <td>2022-05-03</td>\n",
       "      <td>Tino\\Taff</td>\n",
       "      <td>RT</td>\n",
       "      <td>Land Rover Defender delivers a unique combination of performance and capability. Design yours with our online configurator.</td>\n",
       "    </tr>\n",
       "  </tbody>\n",
       "</table>\n",
       "<p>10105 rows × 6 columns</p>\n",
       "</div>"
      ],
      "text/plain": [
       "                        id lang       date                  name retweeted  \\\n",
       "0      1534565117614084096   en 2022-06-08  Low Orbit Tourist 🌍📷             \n",
       "1      1534565743429394439   en 2022-06-08        CompleteCar.ie        RT   \n",
       "2      1529341557580652545   en 2022-05-25           Exmoor Trim             \n",
       "3      1542790343535755264   en 2022-07-01         Land Rover UK             \n",
       "4      1516732103370493954   en 2022-04-20         Sussexes❤️👑🐼🌸             \n",
       "...                    ...  ...        ...                   ...       ...   \n",
       "10100  1523410294554652672   en 2022-05-08             NOT A BOT        RT   \n",
       "10101  1508913706100527112   en 2022-03-29                Flossy        RT   \n",
       "10102  1513043619308969984   en 2022-04-10   Racks Car and Truck             \n",
       "10103  1503204155694862339   en 2022-03-14   Racks Car and Truck             \n",
       "10104  1521363091224674304   en 2022-05-03             Tino\\Taff        RT   \n",
       "\n",
       "                                                                                                                                                                                                                                                                                                                           text  \n",
       "0      Body &amp; Assembly - Halewood - United Kingdom\\n🌍53.3504,-2.8352296,402m\\n\\nHalewood Body &amp; Assembly is a Jaguar Land Rover factory in Halewood, England, and forms the major part of the Halewood complex which is shared with Ford who manufacture transmissions at the site. [Wikipedia] https://t.co/LPmCnZIaVt  \n",
       "1                                                                                                                                                                   Land Rover Ireland has announced that the new Range Rover Sport starts at €114,150, now on @completecar:\\n\\nhttps://t.co/TjGUkL3FYr https://t.co/QdVaEiJkjO  \n",
       "2                                                                                                                                                                                                                                    New Land Rover Range Rover Hits Top Speed With Ease On Autobahn\\n\\nhttps://t.co/19QOgAIu3v  \n",
       "3                          @BeckyWatts1 Hi, thank you for your post. I am sorry to learn of your retailer experience, however when order slots are available they will be presented to the retailer, and it is at their discretion which vehicles they submit. Please continue to liaise with them. Thanks, Dan - Land Rover UK  \n",
       "4                                                                                                                                                                                                                                                  @cofvefe917 @Mackingday No this was during the Land Rover driving challenge.  \n",
       "...                                                                                                                                                                                                                                                                                                                         ...  \n",
       "10100                                                                                                                                                                       The Land Rover Driving Challenge is a test of skill and precision and it certainly delivered some great moments at #IG22 💛🖤 https://t.co/p79BOnWMU3  \n",
       "10101                                                                                                                                                                                                                          I hope they aren’t going to leave the service standing in a Land Rover. #PrincePhilip #idiocracy  \n",
       "10102                                                                                                                                                                                                         OEM 1999 Land Rover Discovery 1 Roof Rack 2 Rails &amp; 3 Cross Support Bars (95-99) https://t.co/SE6DuEqtYi eBay  \n",
       "10103                                                                                                                                                                                          For Land Rover Discovery 2005-2016 LR3 LR4 Roof Racks Top Baggage Cross Bar https://t.co/bpKBijALbU eBay https://t.co/22b4EiJLqv  \n",
       "10104                                                                                                                                                                                               Land Rover Defender delivers a unique combination of performance and capability. Design yours with our online configurator.  \n",
       "\n",
       "[10105 rows x 6 columns]"
      ]
     },
     "execution_count": 5,
     "metadata": {},
     "output_type": "execute_result"
    }
   ],
   "source": [
    "tweets_df"
   ]
  },
  {
   "cell_type": "code",
   "execution_count": 6,
   "metadata": {
    "scrolled": false
   },
   "outputs": [
    {
     "name": "stderr",
     "output_type": "stream",
     "text": [
      "[nltk_data] Downloading package words to\n",
      "[nltk_data]     /Users/ashmitamukherjee/nltk_data...\n",
      "[nltk_data]   Package words is already up-to-date!\n"
     ]
    }
   ],
   "source": [
    "import nltk \n",
    "nltk.download('words')\n",
    "words = set(nltk.corpus.words.words())"
   ]
  },
  {
   "cell_type": "code",
   "execution_count": 7,
   "metadata": {},
   "outputs": [],
   "source": [
    "\n",
    "from pandarallel import pandarallel"
   ]
  },
  {
   "cell_type": "code",
   "execution_count": 8,
   "metadata": {},
   "outputs": [
    {
     "name": "stdout",
     "output_type": "stream",
     "text": [
      "Available CPUs: 8\n",
      "INFO: Pandarallel will run on 7 workers.\n",
      "INFO: Pandarallel will use standard multiprocessing data transfer (pipe) to transfer data between the main process and workers.\n"
     ]
    }
   ],
   "source": [
    "import multiprocessing\n",
    "from langdetect import detect, DetectorFactory, detect_langs\n",
    "DetectorFactory.seed = 0\n",
    "num_processors = multiprocessing.cpu_count()\n",
    "print(f'Available CPUs: {num_processors}')\n",
    "pandarallel.initialize(nb_workers=num_processors-1, use_memory_fs=False,progress_bar = True)"
   ]
  },
  {
   "cell_type": "code",
   "execution_count": 9,
   "metadata": {},
   "outputs": [
    {
     "data": {
      "application/vnd.jupyter.widget-view+json": {
       "model_id": "accab41ff7654b249a7de163a71a6dfa",
       "version_major": 2,
       "version_minor": 0
      },
      "text/plain": [
       "VBox(children=(HBox(children=(IntProgress(value=0, description='0.00%', max=1431), Label(value='0 / 1431'))), …"
      ]
     },
     "metadata": {},
     "output_type": "display_data"
    }
   ],
   "source": [
    "news_df = news_df[news_df['title'].parallel_apply(lambda x: detect(x) == 'en')]"
   ]
  },
  {
   "cell_type": "code",
   "execution_count": 10,
   "metadata": {},
   "outputs": [
    {
     "data": {
      "application/vnd.jupyter.widget-view+json": {
       "model_id": "9d4edc281e13460caa3fa075d443aa01",
       "version_major": 2,
       "version_minor": 0
      },
      "text/plain": [
       "VBox(children=(HBox(children=(IntProgress(value=0, description='0.00%', max=1406), Label(value='0 / 1406'))), …"
      ]
     },
     "metadata": {},
     "output_type": "display_data"
    }
   ],
   "source": [
    "news_df = news_df[news_df['text'].parallel_apply(lambda x: detect(x) == 'en')]"
   ]
  },
  {
   "cell_type": "code",
   "execution_count": 11,
   "metadata": {},
   "outputs": [
    {
     "data": {
      "application/vnd.jupyter.widget-view+json": {
       "model_id": "edb8f710e95e4769b194de25fdca8baf",
       "version_major": 2,
       "version_minor": 0
      },
      "text/plain": [
       "VBox(children=(HBox(children=(IntProgress(value=0, description='0.00%', max=1444), Label(value='0 / 1444'))), …"
      ]
     },
     "metadata": {},
     "output_type": "display_data"
    }
   ],
   "source": [
    "tweets_df=tweets_df[tweets_df['text'].parallel_apply(lambda x: detect(x) == 'en')]"
   ]
  },
  {
   "cell_type": "code",
   "execution_count": 12,
   "metadata": {},
   "outputs": [
    {
     "data": {
      "application/vnd.jupyter.widget-view+json": {
       "model_id": "3ba7e5cb430646aa9d109e6516b3acfd",
       "version_major": 2,
       "version_minor": 0
      },
      "text/plain": [
       "VBox(children=(HBox(children=(IntProgress(value=0, description='0.00%', max=1406), Label(value='0 / 1406'))), …"
      ]
     },
     "metadata": {},
     "output_type": "display_data"
    }
   ],
   "source": [
    "news_df['text_cl']= news_df['text'].parallel_apply(lambda x: ' '.join(cleaner(x)) )"
   ]
  },
  {
   "cell_type": "code",
   "execution_count": 13,
   "metadata": {},
   "outputs": [
    {
     "data": {
      "application/vnd.jupyter.widget-view+json": {
       "model_id": "eff83dadd9874fac8014509ed7cf642d",
       "version_major": 2,
       "version_minor": 0
      },
      "text/plain": [
       "VBox(children=(HBox(children=(IntProgress(value=0, description='0.00%', max=1406), Label(value='0 / 1406'))), …"
      ]
     },
     "metadata": {},
     "output_type": "display_data"
    }
   ],
   "source": [
    "news_df['title_cl']= news_df['title'].parallel_apply(lambda x: ' '.join(cleaner(x)) )"
   ]
  },
  {
   "cell_type": "code",
   "execution_count": 15,
   "metadata": {},
   "outputs": [
    {
     "data": {
      "application/vnd.jupyter.widget-view+json": {
       "model_id": "aef820da065d498f8f3801cafb4ce4d6",
       "version_major": 2,
       "version_minor": 0
      },
      "text/plain": [
       "VBox(children=(HBox(children=(IntProgress(value=0, description='0.00%', max=1357), Label(value='0 / 1357'))), …"
      ]
     },
     "metadata": {},
     "output_type": "display_data"
    },
    {
     "name": "stderr",
     "output_type": "stream",
     "text": [
      "/var/folders/5n/cfjhtvt930z8_vr1xpfjj9vh0000gn/T/ipykernel_1015/4539024.py:2: SettingWithCopyWarning: \n",
      "A value is trying to be set on a copy of a slice from a DataFrame.\n",
      "Try using .loc[row_indexer,col_indexer] = value instead\n",
      "\n",
      "See the caveats in the documentation: https://pandas.pydata.org/pandas-docs/stable/user_guide/indexing.html#returning-a-view-versus-a-copy\n",
      "  tweets_df['text_cl'] = tweets_df['text'].parallel_apply(lambda x: re.sub(r'https[\\w+\\_\\.\\~\\:\\/\\?#\\[\\]\\@\\!\\$\\&\\'\\(\\)\\*\\+\\,\\;\\=\\\\]+','',x))\n"
     ]
    },
    {
     "data": {
      "application/vnd.jupyter.widget-view+json": {
       "model_id": "d4a91e61190f42b0988c7c9c49ab9fa9",
       "version_major": 2,
       "version_minor": 0
      },
      "text/plain": [
       "VBox(children=(HBox(children=(IntProgress(value=0, description='0.00%', max=1357), Label(value='0 / 1357'))), …"
      ]
     },
     "metadata": {},
     "output_type": "display_data"
    },
    {
     "name": "stderr",
     "output_type": "stream",
     "text": [
      "/var/folders/5n/cfjhtvt930z8_vr1xpfjj9vh0000gn/T/ipykernel_1015/4539024.py:3: SettingWithCopyWarning: \n",
      "A value is trying to be set on a copy of a slice from a DataFrame.\n",
      "Try using .loc[row_indexer,col_indexer] = value instead\n",
      "\n",
      "See the caveats in the documentation: https://pandas.pydata.org/pandas-docs/stable/user_guide/indexing.html#returning-a-view-versus-a-copy\n",
      "  tweets_df['text_cl'] = tweets_df['text'].parallel_apply(lambda x: re.sub(r'\\@\\w+','',x))\n"
     ]
    },
    {
     "data": {
      "application/vnd.jupyter.widget-view+json": {
       "model_id": "afb38877d33c491fadc6fb906b49cdeb",
       "version_major": 2,
       "version_minor": 0
      },
      "text/plain": [
       "VBox(children=(HBox(children=(IntProgress(value=0, description='0.00%', max=1357), Label(value='0 / 1357'))), …"
      ]
     },
     "metadata": {},
     "output_type": "display_data"
    },
    {
     "name": "stderr",
     "output_type": "stream",
     "text": [
      "/var/folders/5n/cfjhtvt930z8_vr1xpfjj9vh0000gn/T/ipykernel_1015/4539024.py:4: SettingWithCopyWarning: \n",
      "A value is trying to be set on a copy of a slice from a DataFrame.\n",
      "Try using .loc[row_indexer,col_indexer] = value instead\n",
      "\n",
      "See the caveats in the documentation: https://pandas.pydata.org/pandas-docs/stable/user_guide/indexing.html#returning-a-view-versus-a-copy\n",
      "  tweets_df['text_cl'] = tweets_df['text'].parallel_apply(lambda x: re.sub(r'\\&\\w+;','',x))\n"
     ]
    }
   ],
   "source": [
    "import re\n",
    "tweets_df['text_cl'] = tweets_df['text'].parallel_apply(lambda x: re.sub(r'https[\\w+\\_\\.\\~\\:\\/\\?#\\[\\]\\@\\!\\$\\&\\'\\(\\)\\*\\+\\,\\;\\=\\\\]+','',x))\n",
    "tweets_df['text_cl'] = tweets_df['text'].parallel_apply(lambda x: re.sub(r'\\@\\w+','',x))\n",
    "tweets_df['text_cl'] = tweets_df['text'].parallel_apply(lambda x: re.sub(r'\\&\\w+;','',x))"
   ]
  },
  {
   "cell_type": "markdown",
   "metadata": {},
   "source": [
    "# SPACY without Sentence Segmentation"
   ]
  },
  {
   "cell_type": "code",
   "execution_count": 17,
   "metadata": {},
   "outputs": [],
   "source": [
    "import pandas as pd\n",
    "import spacy \n",
    "from spacy import displacy\n"
   ]
  },
  {
   "cell_type": "code",
   "execution_count": 18,
   "metadata": {},
   "outputs": [
    {
     "data": {
      "text/plain": [
       "['tok2vec', 'tagger', 'parser', 'attribute_ruler', 'lemmatizer', 'ner']"
      ]
     },
     "execution_count": 18,
     "metadata": {},
     "output_type": "execute_result"
    }
   ],
   "source": [
    "nlp = spacy.load(\"en_core_web_md\")\n",
    "nlp.pipe_names"
   ]
  },
  {
   "cell_type": "code",
   "execution_count": 20,
   "metadata": {},
   "outputs": [],
   "source": [
    "def xtestk(text):\n",
    "    doc = nlp(text)\n",
    "\n",
    "    entities = []\n",
    "    labels = []\n",
    "\n",
    "    for ent in doc.ents:\n",
    "        entities.append(ent.text)\n",
    "        labels.append(ent.label_)\n",
    "    \n",
    "    df = pd.DataFrame({'Entities':entities,'Labels':labels})\n",
    "    return df"
   ]
  },
  {
   "cell_type": "code",
   "execution_count": 23,
   "metadata": {},
   "outputs": [],
   "source": [
    "spacyNText = pd.DataFrame()\n",
    "spacyNTitle = pd.DataFrame()\n",
    "spacyTweets = pd.DataFrame()\n",
    "\n",
    "\n"
   ]
  },
  {
   "cell_type": "code",
   "execution_count": 28,
   "metadata": {},
   "outputs": [
    {
     "data": {
      "application/vnd.jupyter.widget-view+json": {
       "model_id": "220222efb4c843888872d571e1d1e6d6",
       "version_major": 2,
       "version_minor": 0
      },
      "text/plain": [
       "VBox(children=(HBox(children=(IntProgress(value=0, description='0.00%', max=1406), Label(value='0 / 1406'))), …"
      ]
     },
     "metadata": {},
     "output_type": "display_data"
    },
    {
     "data": {
      "application/vnd.jupyter.widget-view+json": {
       "model_id": "0ef908b6c6f5420f8a520463ee4c234a",
       "version_major": 2,
       "version_minor": 0
      },
      "text/plain": [
       "VBox(children=(HBox(children=(IntProgress(value=0, description='0.00%', max=1406), Label(value='0 / 1406'))), …"
      ]
     },
     "metadata": {},
     "output_type": "display_data"
    }
   ],
   "source": [
    "spacyNText[['entities','labels']] = pd.concat(list(news_df[\"text_cl\"].parallel_apply(lambda x: xtestk(x)))).reset_index(drop= True)\n",
    "spacyNTitle[['entities','labels']] = pd.concat(list(news_df[\"title_cl\"].parallel_apply(lambda x: xtestk(x)))).reset_index(drop= True)\n"
   ]
  },
  {
   "cell_type": "code",
   "execution_count": 24,
   "metadata": {
    "collapsed": true
   },
   "outputs": [
    {
     "data": {
      "application/vnd.jupyter.widget-view+json": {
       "model_id": "1d169c1ce8cd4147a6ff0e1a354e42c8",
       "version_major": 2,
       "version_minor": 0
      },
      "text/plain": [
       "VBox(children=(HBox(children=(IntProgress(value=0, description='0.00%', max=1357), Label(value='0 / 1357'))), …"
      ]
     },
     "metadata": {},
     "output_type": "display_data"
    }
   ],
   "source": [
    "spacyTweets[['entities','labels']] = pd.concat(list(tweets_df[\"text_cl\"].parallel_apply(lambda x: xtestk(x)))).reset_index(drop= True)\n",
    "\n"
   ]
  },
  {
   "cell_type": "code",
   "execution_count": 52,
   "metadata": {},
   "outputs": [],
   "source": [
    "title=spacyNTitle[spacyNTitle['labels']=='ORG'].value_counts().head(20)\n",
    "text = spacyNText[spacyNText['labels']=='ORG'].value_counts().head(20)\n",
    "texttw = spacyTweets[spacyTweets['labels']=='ORG'].value_counts().head(20)"
   ]
  },
  {
   "cell_type": "code",
   "execution_count": 56,
   "metadata": {},
   "outputs": [
    {
     "name": "stdout",
     "output_type": "stream",
     "text": [
      "entities                       labels\n",
      "Daily Mail                     ORG       1132\n",
      "Ford                           ORG        360\n",
      "Toyota                         ORG        202\n",
      "Chevrolet                      ORG        197\n",
      "Hyundai                        ORG        180\n",
      "Honda                          ORG        149\n",
      "Daily Mail Online              ORG        141\n",
      "Star News                      ORG        130\n",
      "Nissan                         ORG        105\n",
      "Automotive News                ORG         98\n",
      "EV                             ORG         97\n",
      "BMW                            ORG         80\n",
      "Car Dealer Magazine            ORG         78\n",
      "Dodge                          ORG         76\n",
      "Otago Daily Times Online News  ORG         72\n",
      "Jeep                           ORG         63\n",
      "Volkswagen                     ORG         57\n",
      "CoventryLive                   ORG         52\n",
      "Lexus                          ORG         51\n",
      "Jaguar                         ORG         50\n",
      "dtype: int64 \n",
      "\n",
      "entities           labels\n",
      "Ford               ORG       7497\n",
      "wa                 ORG       5967\n",
      "Toyota             ORG       5821\n",
      "Netflix            ORG       5694\n",
      "Hyundai            ORG       4332\n",
      "quality=85         ORG       3928\n",
      "EV                 ORG       3856\n",
      "Honda              ORG       3789\n",
      "Amazon             ORG       3698\n",
      "BMW                ORG       3307\n",
      "Facebook           ORG       3147\n",
      "Chevrolet          ORG       2854\n",
      "Facebook Timeline  ORG       2690\n",
      "Nissan             ORG       2658\n",
      "Royal              ORG       2587\n",
      "House              ORG       2492\n",
      "Land Rover         ORG       2400\n",
      "BBC                ORG       2400\n",
      "Tesla              ORG       2163\n",
      "White House        ORG       2081\n",
      "dtype: int64 \n",
      "\n",
      "entities                              labels\n",
      "Land Rover                            ORG       1347\n",
      "Jaguar Land Rover                     ORG        897\n",
      "eBay                                  ORG        357\n",
      "Mercedes-Benz Citroen General Motors  ORG        284\n",
      "Land Rover Defender                   ORG        264\n",
      "NigelAndArron http //t.co             ORG        190\n",
      "Ford                                  ORG        114\n",
      "Jaguar                                ORG         91\n",
      "Land Rover Range                      ORG         72\n",
      "BMW                                   ORG         69\n",
      "SHAMELESS Health Services Board       ORG         64\n",
      "Toyota                                ORG         63\n",
      "EBL                                   ORG         62\n",
      "Hills Vets                            ORG         62\n",
      "LandRover                             ORG         59\n",
      "Tata Motors                           ORG         59\n",
      "SHAMELESS                             ORG         57\n",
      "Tata                                  ORG         55\n",
      "BaT Auctions                          ORG         51\n",
      "Tesla Bentley Jaguar Jeep Land Rover  ORG         51\n",
      "dtype: int64\n"
     ]
    }
   ],
   "source": [
    "print(title,'\\n')\n",
    "print(text ,'\\n')\n",
    "print(texttw)"
   ]
  },
  {
   "cell_type": "code",
   "execution_count": 119,
   "metadata": {},
   "outputs": [],
   "source": [
    "entity_label_df1 = pd.DataFrame()\n",
    "for entities, labels in zip(ash1['Entities'], ash1['Labels']):\n",
    "    entity_label_df1 = pd.concat([entity_label_df1, pd.DataFrame({'Entity': entities, 'Label': labels})])\n",
    "\n",
    "# Reset index\n",
    "entity_label_df1 = entity_label_df1.reset_index(drop=True)"
   ]
  },
  {
   "cell_type": "code",
   "execution_count": 120,
   "metadata": {
    "scrolled": false
   },
   "outputs": [
    {
     "data": {
      "text/html": [
       "<div>\n",
       "<style scoped>\n",
       "    .dataframe tbody tr th:only-of-type {\n",
       "        vertical-align: middle;\n",
       "    }\n",
       "\n",
       "    .dataframe tbody tr th {\n",
       "        vertical-align: top;\n",
       "    }\n",
       "\n",
       "    .dataframe thead th {\n",
       "        text-align: right;\n",
       "    }\n",
       "</style>\n",
       "<table border=\"1\" class=\"dataframe\">\n",
       "  <thead>\n",
       "    <tr style=\"text-align: right;\">\n",
       "      <th></th>\n",
       "      <th>Entity</th>\n",
       "      <th>Label</th>\n",
       "    </tr>\n",
       "  </thead>\n",
       "  <tbody>\n",
       "    <tr>\n",
       "      <th>0</th>\n",
       "      <td>Assembly - Halewood - United Kingdom</td>\n",
       "      <td>ORG</td>\n",
       "    </tr>\n",
       "    <tr>\n",
       "      <th>1</th>\n",
       "      <td>53.3504,-2.8352296,402m</td>\n",
       "      <td>QUANTITY</td>\n",
       "    </tr>\n",
       "    <tr>\n",
       "      <th>2</th>\n",
       "      <td>Halewood Body &amp;amp</td>\n",
       "      <td>ORG</td>\n",
       "    </tr>\n",
       "    <tr>\n",
       "      <th>3</th>\n",
       "      <td>Assembly</td>\n",
       "      <td>ORG</td>\n",
       "    </tr>\n",
       "    <tr>\n",
       "      <th>4</th>\n",
       "      <td>Jaguar Land Rover</td>\n",
       "      <td>ORG</td>\n",
       "    </tr>\n",
       "    <tr>\n",
       "      <th>...</th>\n",
       "      <td>...</td>\n",
       "      <td>...</td>\n",
       "    </tr>\n",
       "    <tr>\n",
       "      <th>38932</th>\n",
       "      <td>Land Rover Discovery 2005-2016</td>\n",
       "      <td>PRODUCT</td>\n",
       "    </tr>\n",
       "    <tr>\n",
       "      <th>38933</th>\n",
       "      <td>LR4 Roof Racks Top Baggage Cross Bar https://t.co/bpKBijALbU</td>\n",
       "      <td>ORG</td>\n",
       "    </tr>\n",
       "    <tr>\n",
       "      <th>38934</th>\n",
       "      <td>eBay</td>\n",
       "      <td>ORG</td>\n",
       "    </tr>\n",
       "    <tr>\n",
       "      <th>38935</th>\n",
       "      <td>https://t.co/22b4EiJLqv</td>\n",
       "      <td>PRODUCT</td>\n",
       "    </tr>\n",
       "    <tr>\n",
       "      <th>38936</th>\n",
       "      <td>Land Rover Defender</td>\n",
       "      <td>ORG</td>\n",
       "    </tr>\n",
       "  </tbody>\n",
       "</table>\n",
       "<p>38937 rows × 2 columns</p>\n",
       "</div>"
      ],
      "text/plain": [
       "                                                             Entity     Label\n",
       "0                              Assembly - Halewood - United Kingdom       ORG\n",
       "1                                           53.3504,-2.8352296,402m  QUANTITY\n",
       "2                                                Halewood Body &amp       ORG\n",
       "3                                                          Assembly       ORG\n",
       "4                                                 Jaguar Land Rover       ORG\n",
       "...                                                             ...       ...\n",
       "38932                                Land Rover Discovery 2005-2016   PRODUCT\n",
       "38933  LR4 Roof Racks Top Baggage Cross Bar https://t.co/bpKBijALbU       ORG\n",
       "38934                                                          eBay       ORG\n",
       "38935                                       https://t.co/22b4EiJLqv   PRODUCT\n",
       "38936                                           Land Rover Defender       ORG\n",
       "\n",
       "[38937 rows x 2 columns]"
      ]
     },
     "execution_count": 120,
     "metadata": {},
     "output_type": "execute_result"
    }
   ],
   "source": [
    "entity_label_df1"
   ]
  },
  {
   "cell_type": "code",
   "execution_count": 395,
   "metadata": {},
   "outputs": [],
   "source": [
    "plm= entity_label_df1[entity_label_df1['Label']=='ORG']"
   ]
  },
  {
   "cell_type": "code",
   "execution_count": 397,
   "metadata": {},
   "outputs": [
    {
     "data": {
      "text/plain": [
       "Entity                   Label\n",
       "Land Rover               ORG      2094\n",
       "Jaguar Land Rover        ORG      1150\n",
       "BMW                      ORG       381\n",
       "Land Rover Defender      ORG       324\n",
       "Mercedes-Benz            ORG       311\n",
       "Citroen                  ORG       292\n",
       "General Motors           ORG       291\n",
       "eBay                     ORG       283\n",
       "Jaguar                   ORG       195\n",
       "Ford                     ORG       128\n",
       "Volvo                    ORG       105\n",
       "Audi                     ORG        96\n",
       "Tesla                    ORG        94\n",
       "SHAMELESS                ORG        93\n",
       "Bentley                  ORG        89\n",
       "Jeep                     ORG        84\n",
       "TEKNOOFFICIAL            ORG        77\n",
       "Land Rover Range         ORG        74\n",
       "Toyota                   ORG        72\n",
       "the Land Rover Defender  ORG        70\n",
       "dtype: int64"
      ]
     },
     "execution_count": 397,
     "metadata": {},
     "output_type": "execute_result"
    }
   ],
   "source": [
    "plm = plm.value_counts().head(20).reset_index()"
   ]
  },
  {
   "cell_type": "markdown",
   "metadata": {},
   "source": [
    "# NLTK without Sentence Segmentation"
   ]
  },
  {
   "cell_type": "code",
   "execution_count": 262,
   "metadata": {},
   "outputs": [],
   "source": [
    "def nltkNer(text):\n",
    "    entities = []\n",
    "    labels = []\n",
    "    for chunk in nltk.ne_chunk(nltk.pos_tag(nltk.word_tokenize(text)), binary = False):\n",
    "        if hasattr(chunk, 'label'):\n",
    "            entities.append(' '.join(c[0] for c in chunk)) #Add space as between multi-token entities\n",
    "            labels.append(chunk.label())\n",
    "\n",
    "    #entities_labels = list(zip(entities, labels))\n",
    "    entities_labels = list(set(zip(entities, labels)))\n",
    "    entities_df = pd.DataFrame(entities_labels)\n",
    "    return entities_df\n"
   ]
  },
  {
   "cell_type": "code",
   "execution_count": 263,
   "metadata": {},
   "outputs": [
    {
     "data": {
      "text/html": [
       "<div>\n",
       "<style scoped>\n",
       "    .dataframe tbody tr th:only-of-type {\n",
       "        vertical-align: middle;\n",
       "    }\n",
       "\n",
       "    .dataframe tbody tr th {\n",
       "        vertical-align: top;\n",
       "    }\n",
       "\n",
       "    .dataframe thead th {\n",
       "        text-align: right;\n",
       "    }\n",
       "</style>\n",
       "<table border=\"1\" class=\"dataframe\">\n",
       "  <thead>\n",
       "    <tr style=\"text-align: right;\">\n",
       "      <th></th>\n",
       "      <th>0</th>\n",
       "      <th>1</th>\n",
       "    </tr>\n",
       "  </thead>\n",
       "  <tbody>\n",
       "    <tr>\n",
       "      <th>0</th>\n",
       "      <td>Auto News</td>\n",
       "      <td>PERSON</td>\n",
       "    </tr>\n",
       "    <tr>\n",
       "      <th>1</th>\n",
       "      <td>Birla</td>\n",
       "      <td>PERSON</td>\n",
       "    </tr>\n",
       "    <tr>\n",
       "      <th>2</th>\n",
       "      <td>India</td>\n",
       "      <td>GPE</td>\n",
       "    </tr>\n",
       "    <tr>\n",
       "      <th>3</th>\n",
       "      <td>ET Auto</td>\n",
       "      <td>ORGANIZATION</td>\n",
       "    </tr>\n",
       "  </tbody>\n",
       "</table>\n",
       "</div>"
      ],
      "text/plain": [
       "           0             1\n",
       "0  Auto News        PERSON\n",
       "1      Birla        PERSON\n",
       "2      India           GPE\n",
       "3    ET Auto  ORGANIZATION"
      ]
     },
     "execution_count": 263,
     "metadata": {},
     "output_type": "execute_result"
    }
   ],
   "source": [
    "nltkNer(news_df['title'].iloc[1])"
   ]
  },
  {
   "cell_type": "code",
   "execution_count": 212,
   "metadata": {},
   "outputs": [],
   "source": [
    "nltkNewsText = pd.DataFrame()\n",
    "nltkNewsTitle = pd.DataFrame()\n",
    "nltkTweets = pd.DataFrame()"
   ]
  },
  {
   "cell_type": "code",
   "execution_count": 293,
   "metadata": {},
   "outputs": [
    {
     "data": {
      "application/vnd.jupyter.widget-view+json": {
       "model_id": "88fb05e8c1ee4a72a3c8f0709438ab0a",
       "version_major": 2,
       "version_minor": 0
      },
      "text/plain": [
       "VBox(children=(HBox(children=(IntProgress(value=0, description='0.00%', max=1406), Label(value='0 / 1406'))), …"
      ]
     },
     "metadata": {},
     "output_type": "display_data"
    }
   ],
   "source": [
    "nltkNewsText[['Entities','Labels']] = pd.concat(list(news_df[\"text\"].parallel_apply(lambda x: nltkNer(x)))).reset_index(drop= True)"
   ]
  },
  {
   "cell_type": "code",
   "execution_count": 294,
   "metadata": {},
   "outputs": [
    {
     "data": {
      "text/html": [
       "<div>\n",
       "<style scoped>\n",
       "    .dataframe tbody tr th:only-of-type {\n",
       "        vertical-align: middle;\n",
       "    }\n",
       "\n",
       "    .dataframe tbody tr th {\n",
       "        vertical-align: top;\n",
       "    }\n",
       "\n",
       "    .dataframe thead th {\n",
       "        text-align: right;\n",
       "    }\n",
       "</style>\n",
       "<table border=\"1\" class=\"dataframe\">\n",
       "  <thead>\n",
       "    <tr style=\"text-align: right;\">\n",
       "      <th></th>\n",
       "      <th>Entities</th>\n",
       "      <th>Labels</th>\n",
       "    </tr>\n",
       "  </thead>\n",
       "  <tbody>\n",
       "    <tr>\n",
       "      <th>0</th>\n",
       "      <td>Peru</td>\n",
       "      <td>GPE</td>\n",
       "    </tr>\n",
       "    <tr>\n",
       "      <th>1</th>\n",
       "      <td>systemHarrisburg</td>\n",
       "      <td>ORGANIZATION</td>\n",
       "    </tr>\n",
       "    <tr>\n",
       "      <th>2</th>\n",
       "      <td>Army</td>\n",
       "      <td>ORGANIZATION</td>\n",
       "    </tr>\n",
       "    <tr>\n",
       "      <th>3</th>\n",
       "      <td>Hardie</td>\n",
       "      <td>PERSON</td>\n",
       "    </tr>\n",
       "    <tr>\n",
       "      <th>4</th>\n",
       "      <td>Elden Stoops</td>\n",
       "      <td>PERSON</td>\n",
       "    </tr>\n",
       "    <tr>\n",
       "      <th>...</th>\n",
       "      <td>...</td>\n",
       "      <td>...</td>\n",
       "    </tr>\n",
       "    <tr>\n",
       "      <th>10007</th>\n",
       "      <td>GreeceOK</td>\n",
       "      <td>ORGANIZATION</td>\n",
       "    </tr>\n",
       "    <tr>\n",
       "      <th>10008</th>\n",
       "      <td>Kerry Katona</td>\n",
       "      <td>PERSON</td>\n",
       "    </tr>\n",
       "    <tr>\n",
       "      <th>10009</th>\n",
       "      <td>Reach Magazines Publishing</td>\n",
       "      <td>ORGANIZATION</td>\n",
       "    </tr>\n",
       "    <tr>\n",
       "      <th>10010</th>\n",
       "      <td>First Sight</td>\n",
       "      <td>ORGANIZATION</td>\n",
       "    </tr>\n",
       "    <tr>\n",
       "      <th>10011</th>\n",
       "      <td>GermanyOK</td>\n",
       "      <td>ORGANIZATION</td>\n",
       "    </tr>\n",
       "  </tbody>\n",
       "</table>\n",
       "<p>9836 rows × 2 columns</p>\n",
       "</div>"
      ],
      "text/plain": [
       "                         Entities        Labels\n",
       "0                            Peru           GPE\n",
       "1                systemHarrisburg  ORGANIZATION\n",
       "2                            Army  ORGANIZATION\n",
       "3                          Hardie        PERSON\n",
       "4                    Elden Stoops        PERSON\n",
       "...                           ...           ...\n",
       "10007                    GreeceOK  ORGANIZATION\n",
       "10008                Kerry Katona        PERSON\n",
       "10009  Reach Magazines Publishing  ORGANIZATION\n",
       "10010                 First Sight  ORGANIZATION\n",
       "10011                   GermanyOK  ORGANIZATION\n",
       "\n",
       "[9836 rows x 2 columns]"
      ]
     },
     "execution_count": 294,
     "metadata": {},
     "output_type": "execute_result"
    }
   ],
   "source": [
    "nltkNewsText"
   ]
  },
  {
   "cell_type": "code",
   "execution_count": 277,
   "metadata": {
    "scrolled": true
   },
   "outputs": [
    {
     "data": {
      "application/vnd.jupyter.widget-view+json": {
       "model_id": "f8c0c4ed0c094fd79d1df35cfa73fcf7",
       "version_major": 2,
       "version_minor": 0
      },
      "text/plain": [
       "VBox(children=(HBox(children=(IntProgress(value=0, description='0.00%', max=1406), Label(value='0 / 1406'))), …"
      ]
     },
     "metadata": {},
     "output_type": "display_data"
    }
   ],
   "source": [
    "nltkNewsTitle[['entities','labels']] = pd.concat(list(news_df[\"title\"].parallel_apply(lambda x: nltkNer(x)))).reset_index(drop= True)"
   ]
  },
  {
   "cell_type": "code",
   "execution_count": 285,
   "metadata": {},
   "outputs": [
    {
     "data": {
      "text/html": [
       "<div>\n",
       "<style scoped>\n",
       "    .dataframe tbody tr th:only-of-type {\n",
       "        vertical-align: middle;\n",
       "    }\n",
       "\n",
       "    .dataframe tbody tr th {\n",
       "        vertical-align: top;\n",
       "    }\n",
       "\n",
       "    .dataframe thead th {\n",
       "        text-align: right;\n",
       "    }\n",
       "</style>\n",
       "<table border=\"1\" class=\"dataframe\">\n",
       "  <thead>\n",
       "    <tr style=\"text-align: right;\">\n",
       "      <th></th>\n",
       "      <th>entities</th>\n",
       "      <th>labels</th>\n",
       "    </tr>\n",
       "  </thead>\n",
       "  <tbody>\n",
       "    <tr>\n",
       "      <th>0</th>\n",
       "      <td>Jon</td>\n",
       "      <td>PERSON</td>\n",
       "    </tr>\n",
       "    <tr>\n",
       "      <th>1</th>\n",
       "      <td>Horton</td>\n",
       "      <td>PERSON</td>\n",
       "    </tr>\n",
       "    <tr>\n",
       "      <th>2</th>\n",
       "      <td>Auto News</td>\n",
       "      <td>PERSON</td>\n",
       "    </tr>\n",
       "    <tr>\n",
       "      <th>3</th>\n",
       "      <td>Birla</td>\n",
       "      <td>PERSON</td>\n",
       "    </tr>\n",
       "    <tr>\n",
       "      <th>4</th>\n",
       "      <td>India</td>\n",
       "      <td>GPE</td>\n",
       "    </tr>\n",
       "    <tr>\n",
       "      <th>...</th>\n",
       "      <td>...</td>\n",
       "      <td>...</td>\n",
       "    </tr>\n",
       "    <tr>\n",
       "      <th>28818</th>\n",
       "      <td>Land</td>\n",
       "      <td>ORGANIZATION</td>\n",
       "    </tr>\n",
       "    <tr>\n",
       "      <th>28819</th>\n",
       "      <td>Jaguar</td>\n",
       "      <td>PERSON</td>\n",
       "    </tr>\n",
       "    <tr>\n",
       "      <th>28820</th>\n",
       "      <td>Stacy Ann Cassata</td>\n",
       "      <td>PERSON</td>\n",
       "    </tr>\n",
       "    <tr>\n",
       "      <th>28821</th>\n",
       "      <td>Easy</td>\n",
       "      <td>ORGANIZATION</td>\n",
       "    </tr>\n",
       "    <tr>\n",
       "      <th>28822</th>\n",
       "      <td>Money</td>\n",
       "      <td>PERSON</td>\n",
       "    </tr>\n",
       "  </tbody>\n",
       "</table>\n",
       "<p>28823 rows × 2 columns</p>\n",
       "</div>"
      ],
      "text/plain": [
       "                entities        labels\n",
       "0                    Jon        PERSON\n",
       "1                 Horton        PERSON\n",
       "2              Auto News        PERSON\n",
       "3                  Birla        PERSON\n",
       "4                  India           GPE\n",
       "...                  ...           ...\n",
       "28818               Land  ORGANIZATION\n",
       "28819             Jaguar        PERSON\n",
       "28820  Stacy Ann Cassata        PERSON\n",
       "28821               Easy  ORGANIZATION\n",
       "28822              Money        PERSON\n",
       "\n",
       "[28823 rows x 2 columns]"
      ]
     },
     "execution_count": 285,
     "metadata": {},
     "output_type": "execute_result"
    }
   ],
   "source": [
    "nltkNewsTitle"
   ]
  },
  {
   "cell_type": "code",
   "execution_count": 247,
   "metadata": {},
   "outputs": [
    {
     "data": {
      "text/plain": [
       "Entity                          Label\n",
       "| Daily Mail                    ORG      941\n",
       "Ontario |                       ORG      862\n",
       "Ford                            ORG      361\n",
       "Ontario | Carpages.ca           ORG      262\n",
       "Toyota                          ORG      200\n",
       "Chevrolet                       ORG      197\n",
       "British Columbia |              ORG      189\n",
       "Hyundai                         ORG      182\n",
       "Honda                           ORG      155\n",
       "Manitoba | Carpages.ca          ORG      138\n",
       "| Star News                     ORG      131\n",
       "Alberta | Carpages.ca           ORG      113\n",
       "Nissan                          ORG      104\n",
       "EV                              ORG      101\n",
       "BMW                             ORG       92\n",
       "Car Dealer Magazine             ORG       92\n",
       "| Express & Star                ORG       90\n",
       "Dodge                           ORG       77\n",
       "Auto News                       ORG       71\n",
       "Jeep                            ORG       70\n",
       "dtype: int64"
      ]
     },
     "execution_count": 247,
     "metadata": {},
     "output_type": "execute_result"
    }
   ],
   "source": [
    "nltkNewsTitledf[nltkNewsTitledf['Label']=='ORG'].value_counts().head(20)"
   ]
  },
  {
   "cell_type": "code",
   "execution_count": 228,
   "metadata": {},
   "outputs": [
    {
     "data": {
      "application/vnd.jupyter.widget-view+json": {
       "model_id": "bf4fce2c058e4d009ccc9f5bed15c3c5",
       "version_major": 2,
       "version_minor": 0
      },
      "text/plain": [
       "VBox(children=(HBox(children=(IntProgress(value=0, description='0.00%', max=1444), Label(value='0 / 1444'))), …"
      ]
     },
     "metadata": {},
     "output_type": "display_data"
    }
   ],
   "source": [
    "nltkTweets[['Entities', 'Labels']] = tweets_df[\"text_cl\"].parallel_apply(lambda x: pd.Series(xtestk(x)))"
   ]
  },
  {
   "cell_type": "code",
   "execution_count": 229,
   "metadata": {},
   "outputs": [],
   "source": [
    "nltkTweetsdf = pd.DataFrame()\n",
    "for entities, labels in zip(nltkTweets['Entities'], nltkTweets['Labels']):\n",
    "    nltkTweetsdf = pd.concat([nltkTweetsdf, pd.DataFrame({'Entity': entities, 'Label': labels})])\n",
    "\n",
    "# Reset index\n",
    "nltkTweetsdf = nltkTweetsdf.reset_index(drop=True)"
   ]
  },
  {
   "cell_type": "code",
   "execution_count": 236,
   "metadata": {},
   "outputs": [
    {
     "data": {
      "text/plain": [
       "Entity                                Label\n",
       "Land Rover                            ORG      1365\n",
       "Jaguar Land Rover                     ORG       900\n",
       "eBay                                  ORG       456\n",
       "Land Rover Defender                   ORG       325\n",
       "Mercedes-Benz Citroen General Motors  ORG       284\n",
       "NigelAndArron http //t.co             ORG       190\n",
       "Ford                                  ORG       114\n",
       "Jaguar                                ORG        91\n",
       "Land Rover Range                      ORG        86\n",
       "BMW                                   ORG        69\n",
       "SHAMELESS Health Services Board       ORG        64\n",
       "Toyota                                ORG        63\n",
       "EBL                                   ORG        62\n",
       "Hills Vets                            ORG        62\n",
       "LandRover                             ORG        61\n",
       "Tata Motors                           ORG        59\n",
       "SHAMELESS                             ORG        57\n",
       "Tata                                  ORG        56\n",
       "Land Rover Range Rover                ORG        54\n",
       "BaT Auctions                          ORG        51\n",
       "dtype: int64"
      ]
     },
     "execution_count": 236,
     "metadata": {},
     "output_type": "execute_result"
    }
   ],
   "source": [
    "nltkTweetsdf[nltkTweetsdf['Label']=='ORG'].value_counts().head(20)"
   ]
  },
  {
   "cell_type": "markdown",
   "metadata": {},
   "source": [
    "# NLTK with Sentence Segmentation"
   ]
  },
  {
   "cell_type": "code",
   "execution_count": 295,
   "metadata": {},
   "outputs": [],
   "source": [
    "def nltkNerS(text):\n",
    "    entities = []\n",
    "    labels = []\n",
    "\n",
    "    for sent in nltk.sent_tokenize(text):\n",
    "        for chunk in nltk.ne_chunk(nltk.pos_tag(nltk.word_tokenize(sent)), binary = False):\n",
    "            if hasattr(chunk, 'label'):\n",
    "                entities.append(' '.join(c[0] for c in chunk)) #Add space as between multi-token entities\n",
    "                labels.append(chunk.label())\n",
    "\n",
    "    #entities_labels = list(zip(entities, labels))\n",
    "    entities_labels = list(set(zip(entities, labels)))\n",
    "    entities_df = pd.DataFrame(entities_labels)\n",
    "    return entities_df"
   ]
  },
  {
   "cell_type": "code",
   "execution_count": 296,
   "metadata": {},
   "outputs": [],
   "source": [
    "nltkNewsTextS = pd.DataFrame()\n",
    "nltkNewsTitleS = pd.DataFrame()\n",
    "nltkTweetsS = pd.DataFrame()"
   ]
  },
  {
   "cell_type": "code",
   "execution_count": 297,
   "metadata": {},
   "outputs": [
    {
     "data": {
      "application/vnd.jupyter.widget-view+json": {
       "model_id": "f98437ad7d934b7e9b64d152f0e69211",
       "version_major": 2,
       "version_minor": 0
      },
      "text/plain": [
       "VBox(children=(HBox(children=(IntProgress(value=0, description='0.00%', max=1406), Label(value='0 / 1406'))), …"
      ]
     },
     "metadata": {},
     "output_type": "display_data"
    },
    {
     "data": {
      "application/vnd.jupyter.widget-view+json": {
       "model_id": "f71d5cc4681349859a250dfee7581795",
       "version_major": 2,
       "version_minor": 0
      },
      "text/plain": [
       "VBox(children=(HBox(children=(IntProgress(value=0, description='0.00%', max=1406), Label(value='0 / 1406'))), …"
      ]
     },
     "metadata": {},
     "output_type": "display_data"
    },
    {
     "data": {
      "application/vnd.jupyter.widget-view+json": {
       "model_id": "12e40a5fa47c4c568f429618107f68ed",
       "version_major": 2,
       "version_minor": 0
      },
      "text/plain": [
       "VBox(children=(HBox(children=(IntProgress(value=0, description='0.00%', max=1444), Label(value='0 / 1444'))), …"
      ]
     },
     "metadata": {},
     "output_type": "display_data"
    }
   ],
   "source": [
    "nltkNewsTitleS[['entities','labels']] = pd.concat(list(news_df[\"title\"].parallel_apply(lambda x: nltkNerS(x)))).reset_index(drop= True)\n",
    "nltkNewsTextS[['entities','labels']] = pd.concat(list(news_df[\"text\"].parallel_apply(lambda x: nltkNerS(x)))).reset_index(drop= True)\n",
    "nltkTweetsS[['entities','labels']] = pd.concat(list(tweets_df[\"text\"].parallel_apply(lambda x: nltkNerS(x)))).reset_index(drop= True)\n",
    "\n",
    "\n"
   ]
  },
  {
   "cell_type": "markdown",
   "metadata": {},
   "source": [
    "# spacy sentence"
   ]
  },
  {
   "cell_type": "code",
   "execution_count": 19,
   "metadata": {},
   "outputs": [],
   "source": [
    "nlp.enable_pipe('senter')"
   ]
  },
  {
   "cell_type": "code",
   "execution_count": 20,
   "metadata": {},
   "outputs": [
    {
     "data": {
      "text/plain": [
       "['tok2vec',\n",
       " 'tagger',\n",
       " 'parser',\n",
       " 'senter',\n",
       " 'attribute_ruler',\n",
       " 'lemmatizer',\n",
       " 'ner']"
      ]
     },
     "execution_count": 20,
     "metadata": {},
     "output_type": "execute_result"
    }
   ],
   "source": [
    "nlp.pipe_names"
   ]
  },
  {
   "cell_type": "code",
   "execution_count": null,
   "metadata": {},
   "outputs": [],
   "source": [
    "import nltk\n",
    "def cleaner(x):\n",
    "    stopwords = set(nltk.corpus.stopwords.words('english'))\n",
    "    x = nltk.tokenize.word_tokenize(x)\n",
    "    x = [nltk.WordNetLemmatizer().lemmatize(word) for word in x]\n",
    "    x = [word for word in x if len(word) > 1]\n",
    "    x = [word for word in x if word not in stopwords]\n",
    "    return(x)"
   ]
  },
  {
   "cell_type": "code",
   "execution_count": 58,
   "metadata": {},
   "outputs": [
    {
     "data": {
      "application/vnd.jupyter.widget-view+json": {
       "model_id": "29c2972ce7df42b687e3dc062b425366",
       "version_major": 2,
       "version_minor": 0
      },
      "text/plain": [
       "VBox(children=(HBox(children=(IntProgress(value=0, description='0.00%', max=1406), Label(value='0 / 1406'))), …"
      ]
     },
     "metadata": {},
     "output_type": "display_data"
    },
    {
     "data": {
      "application/vnd.jupyter.widget-view+json": {
       "model_id": "55e80a023dd44b89ae8c16cc65fb0bb1",
       "version_major": 2,
       "version_minor": 0
      },
      "text/plain": [
       "VBox(children=(HBox(children=(IntProgress(value=0, description='0.00%', max=1357), Label(value='0 / 1357'))), …"
      ]
     },
     "metadata": {},
     "output_type": "display_data"
    },
    {
     "data": {
      "application/vnd.jupyter.widget-view+json": {
       "model_id": "d27cda463db64716a7ce91863b9cf52f",
       "version_major": 2,
       "version_minor": 0
      },
      "text/plain": [
       "VBox(children=(HBox(children=(IntProgress(value=0, description='0.00%', max=1406), Label(value='0 / 1406'))), …"
      ]
     },
     "metadata": {},
     "output_type": "display_data"
    }
   ],
   "source": [
    "news_df['text_cls']= news_df['text'].parallel_apply(lambda x: ' '.join(cleaner(x)) )\n",
    "tweets_df['text_cls']= tweets_df['text'].parallel_apply(lambda x: ' '.join(cleaner(x)) )\n",
    "news_df['title_cls']=news_df['title'].parallel_apply(lambda x: ' '.join(cleaner(x)) )\n"
   ]
  },
  {
   "cell_type": "markdown",
   "metadata": {},
   "source": [
    "# SpaCy with Sentence Segmentation"
   ]
  },
  {
   "cell_type": "code",
   "execution_count": 59,
   "metadata": {},
   "outputs": [],
   "source": [
    "def sentsp(text):\n",
    "    doc = nlp(text)\n",
    "\n",
    "    entities = []\n",
    "    labels = []\n",
    "\n",
    "    for ent in doc.ents:\n",
    "        entities.append(ent.text)\n",
    "        labels.append(ent.label_)\n",
    "    \n",
    "    df = pd.DataFrame({'Entities':entities,'Labels':labels})\n",
    "    return df"
   ]
  },
  {
   "cell_type": "code",
   "execution_count": 60,
   "metadata": {},
   "outputs": [],
   "source": [
    "nltkNewsTextSs = pd.DataFrame()\n",
    "nltkNewsTitleSs = pd.DataFrame()\n",
    "nltkTweetsSs = pd.DataFrame()"
   ]
  },
  {
   "cell_type": "code",
   "execution_count": 61,
   "metadata": {},
   "outputs": [
    {
     "data": {
      "application/vnd.jupyter.widget-view+json": {
       "model_id": "95271d78b5eb4f5793eca707995a6712",
       "version_major": 2,
       "version_minor": 0
      },
      "text/plain": [
       "VBox(children=(HBox(children=(IntProgress(value=0, description='0.00%', max=1406), Label(value='0 / 1406'))), …"
      ]
     },
     "metadata": {},
     "output_type": "display_data"
    },
    {
     "data": {
      "application/vnd.jupyter.widget-view+json": {
       "model_id": "bccf041443f940b0be0d963f9029b40c",
       "version_major": 2,
       "version_minor": 0
      },
      "text/plain": [
       "VBox(children=(HBox(children=(IntProgress(value=0, description='0.00%', max=1406), Label(value='0 / 1406'))), …"
      ]
     },
     "metadata": {},
     "output_type": "display_data"
    },
    {
     "data": {
      "application/vnd.jupyter.widget-view+json": {
       "model_id": "ffa0373bc39d4520a5a1d1f258c6690b",
       "version_major": 2,
       "version_minor": 0
      },
      "text/plain": [
       "VBox(children=(HBox(children=(IntProgress(value=0, description='0.00%', max=1357), Label(value='0 / 1357'))), …"
      ]
     },
     "metadata": {},
     "output_type": "display_data"
    }
   ],
   "source": [
    "nltkNewsTitleSs[['entities','labels']] = pd.concat(list(news_df[\"title_cls\"].parallel_apply(lambda x: sentsp(x)))).reset_index(drop= True)\n",
    "nltkNewsTextSs[['entities','labels']] = pd.concat(list(news_df[\"text_cls\"].parallel_apply(lambda x: sentsp(x)))).reset_index(drop= True)\n",
    "\n"
   ]
  },
  {
   "cell_type": "code",
   "execution_count": 82,
   "metadata": {},
   "outputs": [
    {
     "data": {
      "application/vnd.jupyter.widget-view+json": {
       "model_id": "2a9155b2b1bd40adaf9c1520bf7e12ab",
       "version_major": 2,
       "version_minor": 0
      },
      "text/plain": [
       "VBox(children=(HBox(children=(IntProgress(value=0, description='0.00%', max=1357), Label(value='0 / 1357'))), …"
      ]
     },
     "metadata": {},
     "output_type": "display_data"
    }
   ],
   "source": [
    "nltkTweetsSs[['entities','labels']] = pd.concat(list(tweets_df[\"text_cl\"].parallel_apply(lambda x: sentsp(x)))).reset_index(drop= True)"
   ]
  },
  {
   "cell_type": "code",
   "execution_count": 83,
   "metadata": {},
   "outputs": [],
   "source": [
    "df1 = nltkNewsTextSs[nltkNewsTextSs['labels']=='ORG'].value_counts().head(20).reset_index()\n",
    "df2 = nltkNewsTitleSs[nltkNewsTitleSs['labels']=='ORG'].value_counts().head(20).reset_index()\n",
    "df3 = nltkTweetsSs[nltkTweetsSs['labels']=='ORG'].value_counts().head(20).reset_index()"
   ]
  },
  {
   "cell_type": "code",
   "execution_count": 84,
   "metadata": {},
   "outputs": [],
   "source": [
    "df1.columns = ['Entity Title News', 'Label Title News', 'Count Title News']\n",
    "df2.columns = ['Entity Text News', 'Label Text News ', 'Count Text News']\n",
    "df3.columns = ['Entity Title Tweets', 'Label Title Tweets ', 'Count Title Tweets']\n",
    "final = pd.concat([df1,df2,df3],axis=1)"
   ]
  },
  {
   "cell_type": "code",
   "execution_count": 85,
   "metadata": {},
   "outputs": [
    {
     "data": {
      "text/html": [
       "<div>\n",
       "<style scoped>\n",
       "    .dataframe tbody tr th:only-of-type {\n",
       "        vertical-align: middle;\n",
       "    }\n",
       "\n",
       "    .dataframe tbody tr th {\n",
       "        vertical-align: top;\n",
       "    }\n",
       "\n",
       "    .dataframe thead th {\n",
       "        text-align: right;\n",
       "    }\n",
       "</style>\n",
       "<table border=\"1\" class=\"dataframe\">\n",
       "  <thead>\n",
       "    <tr style=\"text-align: right;\">\n",
       "      <th></th>\n",
       "      <th>Entity Title News</th>\n",
       "      <th>Label Title News</th>\n",
       "      <th>Count Title News</th>\n",
       "      <th>Entity Text News</th>\n",
       "      <th>Label Text News</th>\n",
       "      <th>Count Text News</th>\n",
       "      <th>Entity Title Tweets</th>\n",
       "      <th>Label Title Tweets</th>\n",
       "      <th>Count Title Tweets</th>\n",
       "    </tr>\n",
       "  </thead>\n",
       "  <tbody>\n",
       "    <tr>\n",
       "      <th>0</th>\n",
       "      <td>Ford</td>\n",
       "      <td>ORG</td>\n",
       "      <td>7497</td>\n",
       "      <td>Daily Mail</td>\n",
       "      <td>ORG</td>\n",
       "      <td>1132</td>\n",
       "      <td>Land Rover</td>\n",
       "      <td>ORG</td>\n",
       "      <td>1809</td>\n",
       "    </tr>\n",
       "    <tr>\n",
       "      <th>1</th>\n",
       "      <td>wa</td>\n",
       "      <td>ORG</td>\n",
       "      <td>5967</td>\n",
       "      <td>Ford</td>\n",
       "      <td>ORG</td>\n",
       "      <td>360</td>\n",
       "      <td>Jaguar Land Rover</td>\n",
       "      <td>ORG</td>\n",
       "      <td>945</td>\n",
       "    </tr>\n",
       "    <tr>\n",
       "      <th>2</th>\n",
       "      <td>Toyota</td>\n",
       "      <td>ORG</td>\n",
       "      <td>5821</td>\n",
       "      <td>Toyota</td>\n",
       "      <td>ORG</td>\n",
       "      <td>202</td>\n",
       "      <td>BMW</td>\n",
       "      <td>ORG</td>\n",
       "      <td>301</td>\n",
       "    </tr>\n",
       "    <tr>\n",
       "      <th>3</th>\n",
       "      <td>Netflix</td>\n",
       "      <td>ORG</td>\n",
       "      <td>5694</td>\n",
       "      <td>Chevrolet</td>\n",
       "      <td>ORG</td>\n",
       "      <td>197</td>\n",
       "      <td>Land Rover Defender</td>\n",
       "      <td>ORG</td>\n",
       "      <td>284</td>\n",
       "    </tr>\n",
       "    <tr>\n",
       "      <th>4</th>\n",
       "      <td>Hyundai</td>\n",
       "      <td>ORG</td>\n",
       "      <td>4332</td>\n",
       "      <td>Hyundai</td>\n",
       "      <td>ORG</td>\n",
       "      <td>180</td>\n",
       "      <td>eBay</td>\n",
       "      <td>ORG</td>\n",
       "      <td>258</td>\n",
       "    </tr>\n",
       "    <tr>\n",
       "      <th>5</th>\n",
       "      <td>quality=85</td>\n",
       "      <td>ORG</td>\n",
       "      <td>3928</td>\n",
       "      <td>Honda</td>\n",
       "      <td>ORG</td>\n",
       "      <td>149</td>\n",
       "      <td>Mercedes-Benz</td>\n",
       "      <td>ORG</td>\n",
       "      <td>227</td>\n",
       "    </tr>\n",
       "    <tr>\n",
       "      <th>6</th>\n",
       "      <td>EV</td>\n",
       "      <td>ORG</td>\n",
       "      <td>3856</td>\n",
       "      <td>Daily Mail Online</td>\n",
       "      <td>ORG</td>\n",
       "      <td>141</td>\n",
       "      <td>General Motors</td>\n",
       "      <td>ORG</td>\n",
       "      <td>217</td>\n",
       "    </tr>\n",
       "    <tr>\n",
       "      <th>7</th>\n",
       "      <td>Honda</td>\n",
       "      <td>ORG</td>\n",
       "      <td>3789</td>\n",
       "      <td>Star News</td>\n",
       "      <td>ORG</td>\n",
       "      <td>130</td>\n",
       "      <td>Citroen</td>\n",
       "      <td>ORG</td>\n",
       "      <td>210</td>\n",
       "    </tr>\n",
       "    <tr>\n",
       "      <th>8</th>\n",
       "      <td>Amazon</td>\n",
       "      <td>ORG</td>\n",
       "      <td>3698</td>\n",
       "      <td>Nissan</td>\n",
       "      <td>ORG</td>\n",
       "      <td>105</td>\n",
       "      <td>Jaguar</td>\n",
       "      <td>ORG</td>\n",
       "      <td>186</td>\n",
       "    </tr>\n",
       "    <tr>\n",
       "      <th>9</th>\n",
       "      <td>BMW</td>\n",
       "      <td>ORG</td>\n",
       "      <td>3307</td>\n",
       "      <td>Automotive News</td>\n",
       "      <td>ORG</td>\n",
       "      <td>98</td>\n",
       "      <td>Ford</td>\n",
       "      <td>ORG</td>\n",
       "      <td>109</td>\n",
       "    </tr>\n",
       "    <tr>\n",
       "      <th>10</th>\n",
       "      <td>Facebook</td>\n",
       "      <td>ORG</td>\n",
       "      <td>3147</td>\n",
       "      <td>EV</td>\n",
       "      <td>ORG</td>\n",
       "      <td>97</td>\n",
       "      <td>Volvo</td>\n",
       "      <td>ORG</td>\n",
       "      <td>97</td>\n",
       "    </tr>\n",
       "    <tr>\n",
       "      <th>11</th>\n",
       "      <td>Chevrolet</td>\n",
       "      <td>ORG</td>\n",
       "      <td>2854</td>\n",
       "      <td>BMW</td>\n",
       "      <td>ORG</td>\n",
       "      <td>80</td>\n",
       "      <td>Audi</td>\n",
       "      <td>ORG</td>\n",
       "      <td>87</td>\n",
       "    </tr>\n",
       "    <tr>\n",
       "      <th>12</th>\n",
       "      <td>Facebook Timeline</td>\n",
       "      <td>ORG</td>\n",
       "      <td>2690</td>\n",
       "      <td>Car Dealer Magazine</td>\n",
       "      <td>ORG</td>\n",
       "      <td>78</td>\n",
       "      <td>SHAMELESS</td>\n",
       "      <td>ORG</td>\n",
       "      <td>84</td>\n",
       "    </tr>\n",
       "    <tr>\n",
       "      <th>13</th>\n",
       "      <td>Nissan</td>\n",
       "      <td>ORG</td>\n",
       "      <td>2658</td>\n",
       "      <td>Dodge</td>\n",
       "      <td>ORG</td>\n",
       "      <td>76</td>\n",
       "      <td>Tesla</td>\n",
       "      <td>ORG</td>\n",
       "      <td>79</td>\n",
       "    </tr>\n",
       "    <tr>\n",
       "      <th>14</th>\n",
       "      <td>Royal</td>\n",
       "      <td>ORG</td>\n",
       "      <td>2587</td>\n",
       "      <td>Otago Daily Times Online News</td>\n",
       "      <td>ORG</td>\n",
       "      <td>72</td>\n",
       "      <td>Bentley</td>\n",
       "      <td>ORG</td>\n",
       "      <td>77</td>\n",
       "    </tr>\n",
       "    <tr>\n",
       "      <th>15</th>\n",
       "      <td>House</td>\n",
       "      <td>ORG</td>\n",
       "      <td>2492</td>\n",
       "      <td>Jeep</td>\n",
       "      <td>ORG</td>\n",
       "      <td>63</td>\n",
       "      <td>Jeep</td>\n",
       "      <td>ORG</td>\n",
       "      <td>72</td>\n",
       "    </tr>\n",
       "    <tr>\n",
       "      <th>16</th>\n",
       "      <td>Land Rover</td>\n",
       "      <td>ORG</td>\n",
       "      <td>2400</td>\n",
       "      <td>Volkswagen</td>\n",
       "      <td>ORG</td>\n",
       "      <td>57</td>\n",
       "      <td>Land Rover Range</td>\n",
       "      <td>ORG</td>\n",
       "      <td>72</td>\n",
       "    </tr>\n",
       "    <tr>\n",
       "      <th>17</th>\n",
       "      <td>BBC</td>\n",
       "      <td>ORG</td>\n",
       "      <td>2400</td>\n",
       "      <td>CoventryLive</td>\n",
       "      <td>ORG</td>\n",
       "      <td>52</td>\n",
       "      <td>TEKNOOFFICIAL</td>\n",
       "      <td>ORG</td>\n",
       "      <td>66</td>\n",
       "    </tr>\n",
       "    <tr>\n",
       "      <th>18</th>\n",
       "      <td>Tesla</td>\n",
       "      <td>ORG</td>\n",
       "      <td>2163</td>\n",
       "      <td>Lexus</td>\n",
       "      <td>ORG</td>\n",
       "      <td>51</td>\n",
       "      <td>Toyota</td>\n",
       "      <td>ORG</td>\n",
       "      <td>65</td>\n",
       "    </tr>\n",
       "    <tr>\n",
       "      <th>19</th>\n",
       "      <td>White House</td>\n",
       "      <td>ORG</td>\n",
       "      <td>2081</td>\n",
       "      <td>Jaguar</td>\n",
       "      <td>ORG</td>\n",
       "      <td>50</td>\n",
       "      <td>the Land Rover Defender</td>\n",
       "      <td>ORG</td>\n",
       "      <td>59</td>\n",
       "    </tr>\n",
       "  </tbody>\n",
       "</table>\n",
       "</div>"
      ],
      "text/plain": [
       "    Entity Title News Label Title News  Count Title News  \\\n",
       "0                Ford              ORG              7497   \n",
       "1                  wa              ORG              5967   \n",
       "2              Toyota              ORG              5821   \n",
       "3             Netflix              ORG              5694   \n",
       "4             Hyundai              ORG              4332   \n",
       "5          quality=85              ORG              3928   \n",
       "6                  EV              ORG              3856   \n",
       "7               Honda              ORG              3789   \n",
       "8              Amazon              ORG              3698   \n",
       "9                 BMW              ORG              3307   \n",
       "10           Facebook              ORG              3147   \n",
       "11          Chevrolet              ORG              2854   \n",
       "12  Facebook Timeline              ORG              2690   \n",
       "13             Nissan              ORG              2658   \n",
       "14              Royal              ORG              2587   \n",
       "15              House              ORG              2492   \n",
       "16         Land Rover              ORG              2400   \n",
       "17                BBC              ORG              2400   \n",
       "18              Tesla              ORG              2163   \n",
       "19        White House              ORG              2081   \n",
       "\n",
       "                 Entity Text News Label Text News   Count Text News  \\\n",
       "0                      Daily Mail              ORG             1132   \n",
       "1                            Ford              ORG              360   \n",
       "2                          Toyota              ORG              202   \n",
       "3                       Chevrolet              ORG              197   \n",
       "4                         Hyundai              ORG              180   \n",
       "5                           Honda              ORG              149   \n",
       "6               Daily Mail Online              ORG              141   \n",
       "7                       Star News              ORG              130   \n",
       "8                          Nissan              ORG              105   \n",
       "9                 Automotive News              ORG               98   \n",
       "10                             EV              ORG               97   \n",
       "11                            BMW              ORG               80   \n",
       "12            Car Dealer Magazine              ORG               78   \n",
       "13                          Dodge              ORG               76   \n",
       "14  Otago Daily Times Online News              ORG               72   \n",
       "15                           Jeep              ORG               63   \n",
       "16                     Volkswagen              ORG               57   \n",
       "17                   CoventryLive              ORG               52   \n",
       "18                          Lexus              ORG               51   \n",
       "19                         Jaguar              ORG               50   \n",
       "\n",
       "        Entity Title Tweets Label Title Tweets   Count Title Tweets  \n",
       "0                Land Rover                 ORG                1809  \n",
       "1         Jaguar Land Rover                 ORG                 945  \n",
       "2                       BMW                 ORG                 301  \n",
       "3       Land Rover Defender                 ORG                 284  \n",
       "4                      eBay                 ORG                 258  \n",
       "5             Mercedes-Benz                 ORG                 227  \n",
       "6            General Motors                 ORG                 217  \n",
       "7                   Citroen                 ORG                 210  \n",
       "8                    Jaguar                 ORG                 186  \n",
       "9                      Ford                 ORG                 109  \n",
       "10                    Volvo                 ORG                  97  \n",
       "11                     Audi                 ORG                  87  \n",
       "12                SHAMELESS                 ORG                  84  \n",
       "13                    Tesla                 ORG                  79  \n",
       "14                  Bentley                 ORG                  77  \n",
       "15                     Jeep                 ORG                  72  \n",
       "16         Land Rover Range                 ORG                  72  \n",
       "17            TEKNOOFFICIAL                 ORG                  66  \n",
       "18                   Toyota                 ORG                  65  \n",
       "19  the Land Rover Defender                 ORG                  59  "
      ]
     },
     "execution_count": 85,
     "metadata": {},
     "output_type": "execute_result"
    }
   ],
   "source": [
    "final"
   ]
  },
  {
   "cell_type": "code",
   "execution_count": 93,
   "metadata": {},
   "outputs": [
    {
     "data": {
      "text/html": [
       "<div>\n",
       "<style scoped>\n",
       "    .dataframe tbody tr th:only-of-type {\n",
       "        vertical-align: middle;\n",
       "    }\n",
       "\n",
       "    .dataframe tbody tr th {\n",
       "        vertical-align: top;\n",
       "    }\n",
       "\n",
       "    .dataframe thead th {\n",
       "        text-align: right;\n",
       "    }\n",
       "</style>\n",
       "<table border=\"1\" class=\"dataframe\">\n",
       "  <thead>\n",
       "    <tr style=\"text-align: right;\">\n",
       "      <th></th>\n",
       "      <th>Entity Title News loc</th>\n",
       "      <th>Label Title News loc</th>\n",
       "      <th>Count Title News loc</th>\n",
       "      <th>Entity Text News loc</th>\n",
       "      <th>Label Text News loc</th>\n",
       "      <th>Count Text News loc</th>\n",
       "      <th>Entity Title Tweets loc</th>\n",
       "      <th>Label Title Tweets loc</th>\n",
       "      <th>Count Title Tweets loc</th>\n",
       "    </tr>\n",
       "  </thead>\n",
       "  <tbody>\n",
       "    <tr>\n",
       "      <th>0</th>\n",
       "      <td>LA</td>\n",
       "      <td>GPE</td>\n",
       "      <td>15702</td>\n",
       "      <td>Manitoba</td>\n",
       "      <td>GPE</td>\n",
       "      <td>180</td>\n",
       "      <td>Russia</td>\n",
       "      <td>GPE</td>\n",
       "      <td>472</td>\n",
       "    </tr>\n",
       "    <tr>\n",
       "      <th>1</th>\n",
       "      <td>UK</td>\n",
       "      <td>GPE</td>\n",
       "      <td>10335</td>\n",
       "      <td>UK</td>\n",
       "      <td>GPE</td>\n",
       "      <td>171</td>\n",
       "      <td>UK</td>\n",
       "      <td>GPE</td>\n",
       "      <td>346</td>\n",
       "    </tr>\n",
       "    <tr>\n",
       "      <th>2</th>\n",
       "      <td>US</td>\n",
       "      <td>GPE</td>\n",
       "      <td>10187</td>\n",
       "      <td>India</td>\n",
       "      <td>GPE</td>\n",
       "      <td>89</td>\n",
       "      <td>India</td>\n",
       "      <td>GPE</td>\n",
       "      <td>87</td>\n",
       "    </tr>\n",
       "    <tr>\n",
       "      <th>3</th>\n",
       "      <td>London</td>\n",
       "      <td>GPE</td>\n",
       "      <td>8099</td>\n",
       "      <td>US</td>\n",
       "      <td>GPE</td>\n",
       "      <td>78</td>\n",
       "      <td>Zimbabwe</td>\n",
       "      <td>GPE</td>\n",
       "      <td>87</td>\n",
       "    </tr>\n",
       "    <tr>\n",
       "      <th>4</th>\n",
       "      <td>NYC</td>\n",
       "      <td>GPE</td>\n",
       "      <td>7871</td>\n",
       "      <td>Cambridge</td>\n",
       "      <td>GPE</td>\n",
       "      <td>68</td>\n",
       "      <td>Britain</td>\n",
       "      <td>GPE</td>\n",
       "      <td>60</td>\n",
       "    </tr>\n",
       "    <tr>\n",
       "      <th>5</th>\n",
       "      <td>Los Angeles</td>\n",
       "      <td>GPE</td>\n",
       "      <td>7446</td>\n",
       "      <td>U.S.</td>\n",
       "      <td>GPE</td>\n",
       "      <td>59</td>\n",
       "      <td>Jamaica</td>\n",
       "      <td>GPE</td>\n",
       "      <td>49</td>\n",
       "    </tr>\n",
       "    <tr>\n",
       "      <th>6</th>\n",
       "      <td>New York City</td>\n",
       "      <td>GPE</td>\n",
       "      <td>6852</td>\n",
       "      <td>North York</td>\n",
       "      <td>GPE</td>\n",
       "      <td>59</td>\n",
       "      <td>💸</td>\n",
       "      <td>GPE</td>\n",
       "      <td>46</td>\n",
       "    </tr>\n",
       "    <tr>\n",
       "      <th>7</th>\n",
       "      <td>Hollywood</td>\n",
       "      <td>GPE</td>\n",
       "      <td>5980</td>\n",
       "      <td>London</td>\n",
       "      <td>GPE</td>\n",
       "      <td>56</td>\n",
       "      <td>Cambridge</td>\n",
       "      <td>GPE</td>\n",
       "      <td>45</td>\n",
       "    </tr>\n",
       "    <tr>\n",
       "      <th>8</th>\n",
       "      <td>Australia</td>\n",
       "      <td>GPE</td>\n",
       "      <td>5013</td>\n",
       "      <td>China</td>\n",
       "      <td>GPE</td>\n",
       "      <td>56</td>\n",
       "      <td>London</td>\n",
       "      <td>GPE</td>\n",
       "      <td>42</td>\n",
       "    </tr>\n",
       "    <tr>\n",
       "      <th>9</th>\n",
       "      <td>Miami</td>\n",
       "      <td>GPE</td>\n",
       "      <td>4912</td>\n",
       "      <td>Taiwan</td>\n",
       "      <td>GPE</td>\n",
       "      <td>54</td>\n",
       "      <td>Netherlands</td>\n",
       "      <td>GPE</td>\n",
       "      <td>38</td>\n",
       "    </tr>\n",
       "    <tr>\n",
       "      <th>10</th>\n",
       "      <td>California</td>\n",
       "      <td>GPE</td>\n",
       "      <td>4347</td>\n",
       "      <td>Toronto</td>\n",
       "      <td>GPE</td>\n",
       "      <td>53</td>\n",
       "      <td>China</td>\n",
       "      <td>GPE</td>\n",
       "      <td>36</td>\n",
       "    </tr>\n",
       "    <tr>\n",
       "      <th>11</th>\n",
       "      <td>Paris</td>\n",
       "      <td>GPE</td>\n",
       "      <td>4131</td>\n",
       "      <td>Australia</td>\n",
       "      <td>GPE</td>\n",
       "      <td>43</td>\n",
       "      <td>US</td>\n",
       "      <td>GPE</td>\n",
       "      <td>31</td>\n",
       "    </tr>\n",
       "    <tr>\n",
       "      <th>12</th>\n",
       "      <td>India</td>\n",
       "      <td>GPE</td>\n",
       "      <td>3912</td>\n",
       "      <td>Oakville</td>\n",
       "      <td>GPE</td>\n",
       "      <td>40</td>\n",
       "      <td>TeamWang</td>\n",
       "      <td>GPE</td>\n",
       "      <td>29</td>\n",
       "    </tr>\n",
       "    <tr>\n",
       "      <th>13</th>\n",
       "      <td>Britain</td>\n",
       "      <td>GPE</td>\n",
       "      <td>3800</td>\n",
       "      <td>Calgary</td>\n",
       "      <td>GPE</td>\n",
       "      <td>40</td>\n",
       "      <td>Zuiderpark Hague</td>\n",
       "      <td>GPE</td>\n",
       "      <td>27</td>\n",
       "    </tr>\n",
       "    <tr>\n",
       "      <th>14</th>\n",
       "      <td>New York</td>\n",
       "      <td>GPE</td>\n",
       "      <td>3771</td>\n",
       "      <td>Russia</td>\n",
       "      <td>GPE</td>\n",
       "      <td>38</td>\n",
       "      <td>New Zealand</td>\n",
       "      <td>GPE</td>\n",
       "      <td>25</td>\n",
       "    </tr>\n",
       "    <tr>\n",
       "      <th>15</th>\n",
       "      <td>China</td>\n",
       "      <td>GPE</td>\n",
       "      <td>3667</td>\n",
       "      <td>Britain</td>\n",
       "      <td>GPE</td>\n",
       "      <td>38</td>\n",
       "      <td>Hollywood</td>\n",
       "      <td>GPE</td>\n",
       "      <td>24</td>\n",
       "    </tr>\n",
       "    <tr>\n",
       "      <th>16</th>\n",
       "      <td>Sydney</td>\n",
       "      <td>GPE</td>\n",
       "      <td>3576</td>\n",
       "      <td>Ukraine</td>\n",
       "      <td>GPE</td>\n",
       "      <td>34</td>\n",
       "      <td>France</td>\n",
       "      <td>GPE</td>\n",
       "      <td>23</td>\n",
       "    </tr>\n",
       "    <tr>\n",
       "      <th>17</th>\n",
       "      <td>Beverly Hills</td>\n",
       "      <td>GPE</td>\n",
       "      <td>3550</td>\n",
       "      <td>Explica</td>\n",
       "      <td>GPE</td>\n",
       "      <td>29</td>\n",
       "      <td>South Africa</td>\n",
       "      <td>GPE</td>\n",
       "      <td>22</td>\n",
       "    </tr>\n",
       "    <tr>\n",
       "      <th>18</th>\n",
       "      <td>U.S.</td>\n",
       "      <td>GPE</td>\n",
       "      <td>3235</td>\n",
       "      <td>Sale Winnipeg</td>\n",
       "      <td>GPE</td>\n",
       "      <td>26</td>\n",
       "      <td>Kenya</td>\n",
       "      <td>GPE</td>\n",
       "      <td>21</td>\n",
       "    </tr>\n",
       "    <tr>\n",
       "      <th>19</th>\n",
       "      <td>Texas</td>\n",
       "      <td>GPE</td>\n",
       "      <td>2998</td>\n",
       "      <td>Edmonton</td>\n",
       "      <td>GPE</td>\n",
       "      <td>23</td>\n",
       "      <td>Somerset</td>\n",
       "      <td>GPE</td>\n",
       "      <td>20</td>\n",
       "    </tr>\n",
       "  </tbody>\n",
       "</table>\n",
       "</div>"
      ],
      "text/plain": [
       "   Entity Title News loc Label Title News loc  Count Title News loc  \\\n",
       "0                     LA                  GPE                 15702   \n",
       "1                     UK                  GPE                 10335   \n",
       "2                     US                  GPE                 10187   \n",
       "3                 London                  GPE                  8099   \n",
       "4                    NYC                  GPE                  7871   \n",
       "5            Los Angeles                  GPE                  7446   \n",
       "6          New York City                  GPE                  6852   \n",
       "7              Hollywood                  GPE                  5980   \n",
       "8              Australia                  GPE                  5013   \n",
       "9                  Miami                  GPE                  4912   \n",
       "10            California                  GPE                  4347   \n",
       "11                 Paris                  GPE                  4131   \n",
       "12                 India                  GPE                  3912   \n",
       "13               Britain                  GPE                  3800   \n",
       "14              New York                  GPE                  3771   \n",
       "15                 China                  GPE                  3667   \n",
       "16                Sydney                  GPE                  3576   \n",
       "17         Beverly Hills                  GPE                  3550   \n",
       "18                  U.S.                  GPE                  3235   \n",
       "19                 Texas                  GPE                  2998   \n",
       "\n",
       "   Entity Text News loc Label Text News loc   Count Text News loc  \\\n",
       "0              Manitoba                  GPE                  180   \n",
       "1                    UK                  GPE                  171   \n",
       "2                 India                  GPE                   89   \n",
       "3                    US                  GPE                   78   \n",
       "4             Cambridge                  GPE                   68   \n",
       "5                  U.S.                  GPE                   59   \n",
       "6            North York                  GPE                   59   \n",
       "7                London                  GPE                   56   \n",
       "8                 China                  GPE                   56   \n",
       "9                Taiwan                  GPE                   54   \n",
       "10              Toronto                  GPE                   53   \n",
       "11            Australia                  GPE                   43   \n",
       "12             Oakville                  GPE                   40   \n",
       "13              Calgary                  GPE                   40   \n",
       "14               Russia                  GPE                   38   \n",
       "15              Britain                  GPE                   38   \n",
       "16              Ukraine                  GPE                   34   \n",
       "17              Explica                  GPE                   29   \n",
       "18        Sale Winnipeg                  GPE                   26   \n",
       "19             Edmonton                  GPE                   23   \n",
       "\n",
       "   Entity Title Tweets loc Label Title Tweets loc   Count Title Tweets loc  \n",
       "0                   Russia                     GPE                     472  \n",
       "1                       UK                     GPE                     346  \n",
       "2                    India                     GPE                      87  \n",
       "3                 Zimbabwe                     GPE                      87  \n",
       "4                  Britain                     GPE                      60  \n",
       "5                  Jamaica                     GPE                      49  \n",
       "6                        💸                     GPE                      46  \n",
       "7                Cambridge                     GPE                      45  \n",
       "8                   London                     GPE                      42  \n",
       "9              Netherlands                     GPE                      38  \n",
       "10                   China                     GPE                      36  \n",
       "11                      US                     GPE                      31  \n",
       "12                TeamWang                     GPE                      29  \n",
       "13        Zuiderpark Hague                     GPE                      27  \n",
       "14             New Zealand                     GPE                      25  \n",
       "15               Hollywood                     GPE                      24  \n",
       "16                  France                     GPE                      23  \n",
       "17            South Africa                     GPE                      22  \n",
       "18                   Kenya                     GPE                      21  \n",
       "19                Somerset                     GPE                      20  "
      ]
     },
     "execution_count": 93,
     "metadata": {},
     "output_type": "execute_result"
    }
   ],
   "source": [
    "df4 = nltkNewsTextSs[nltkNewsTextSs['labels']=='GPE'].value_counts().head(20).reset_index()\n",
    "df5 = nltkNewsTitleSs[nltkNewsTitleSs['labels']=='GPE'].value_counts().head(20).reset_index()\n",
    "df6 = nltkTweetsSs[nltkTweetsSs['labels']=='GPE'].value_counts().head(20).reset_index()\n",
    "df4.columns = ['Entity Title News loc', 'Label Title News loc', 'Count Title News loc']\n",
    "df5.columns = ['Entity Text News loc', 'Label Text News loc ', 'Count Text News loc']\n",
    "df6.columns = ['Entity Title Tweets loc', 'Label Title Tweets loc ', 'Count Title Tweets loc']\n",
    "final = pd.concat([df4,df5,df6],axis=1)\n",
    "final"
   ]
  },
  {
   "cell_type": "markdown",
   "metadata": {},
   "source": [
    "### After trying out all the methods, SpaCy with Sentence Segmentation provided the best results. I have provided the tables for top 20 News Articles Text, Titles and Tweet Text commonly used words of ORG and GPE using that method. "
   ]
  },
  {
   "cell_type": "markdown",
   "metadata": {},
   "source": [
    "### The most frequently used company turned out to be 'Ford'! I did an analysis of most frequently used ORG with Ford."
   ]
  },
  {
   "cell_type": "markdown",
   "metadata": {},
   "source": [
    "#### News Text"
   ]
  },
  {
   "cell_type": "code",
   "execution_count": 58,
   "metadata": {},
   "outputs": [
    {
     "name": "stdout",
     "output_type": "stream",
     "text": [
      "INFO: Pandarallel will run on 8 workers.\n",
      "INFO: Pandarallel will use standard multiprocessing data transfer (pipe) to transfer data between the main process and workers.\n"
     ]
    },
    {
     "data": {
      "application/vnd.jupyter.widget-view+json": {
       "model_id": "c5974666d7e240c7ab66f471063db91a",
       "version_major": 2,
       "version_minor": 0
      },
      "text/plain": [
       "VBox(children=(HBox(children=(IntProgress(value=0, description='0.00%', max=1230), Label(value='0 / 1230'))), …"
      ]
     },
     "metadata": {},
     "output_type": "display_data"
    },
    {
     "name": "stdout",
     "output_type": "stream",
     "text": [
      "\n",
      "Companies mentioned most frequently within the same document as 'Ford':\n",
      "Netflix: 5403 mentions within the same document\n",
      "Toyota: 5158 mentions within the same document\n",
      "wa: 4781 mentions within the same document\n",
      "Hyundai: 3980 mentions within the same document\n",
      "quality=85: 3928 mentions within the same document\n",
      "Honda: 3590 mentions within the same document\n",
      "Amazon: 3361 mentions within the same document\n",
      "EV: 3179 mentions within the same document\n",
      "Facebook: 2982 mentions within the same document\n",
      "BMW: 2836 mentions within the same document\n"
     ]
    }
   ],
   "source": [
    "def extract_companies(text):\n",
    "    companies = []\n",
    "    doc = nlp(text)\n",
    "    for ent in doc.ents:\n",
    "        if ent.label_ == \"ORG\":\n",
    "            companies.append(ent.text)\n",
    "    return companies\n",
    "\n",
    "def process_row(row, primary_company):\n",
    "    if primary_company.lower() in row['text_cl'].lower():\n",
    "        companies = extract_companies(row['text_cl'])\n",
    "        companies = [company for company in companies if company.lower() != primary_company.lower()]\n",
    "        return companies\n",
    "    return []\n",
    "\n",
    "def find_companies_within_document(df, primary_company):\n",
    "    results = df.parallel_apply(process_row, axis=1, args=(primary_company,))\n",
    "    companies_within_document = [company for sublist in results.dropna() for company in sublist]\n",
    "    return Counter(companies_within_document)\n",
    "\n",
    "primary_company = \"Ford\"\n",
    "companies_within_document_freq = find_companies_within_document(news_df, primary_company)\n",
    "top_companies_within_document = companies_within_document_freq.most_common(10)\n",
    "\n",
    "print(\"\\nCompanies mentioned most frequently within the same document as 'Ford':\")\n",
    "for company, count in top_companies_within_document:\n",
    "    print(f\"{company}: {count} mentions within the same document\")\n"
   ]
  },
  {
   "cell_type": "markdown",
   "metadata": {},
   "source": [
    "#### News Title"
   ]
  },
  {
   "cell_type": "code",
   "execution_count": 45,
   "metadata": {},
   "outputs": [
    {
     "name": "stdout",
     "output_type": "stream",
     "text": [
      "\n",
      "Companies mentioned most frequently within the same document as 'Ford':\n",
      "Hyundai: 10\n",
      "John British Columbia: 6\n",
      "Automotive News: 6\n",
      "Chevrolet: 6\n",
      "Toyota: 5\n",
      "Oxford: 5\n",
      "EV: 5\n",
      "Daily Mail: 5\n",
      "Ford F-150: 4\n",
      "AutoSpies Auto News: 4\n"
     ]
    }
   ],
   "source": [
    "\n",
    "def extract_companies(text):\n",
    "    companies = []\n",
    "    doc = nlp(text)\n",
    "    for ent in doc.ents:\n",
    "        if ent.label_ == \"ORG\":\n",
    "            companies.append(ent.text)\n",
    "    return companies\n",
    "\n",
    "def find_companies_within_document(df, primary_company):\n",
    "    companies_within_document = []\n",
    "    for index, row in df.iterrows():\n",
    "        if primary_company.lower() in row['title_cl'].lower():\n",
    "            companies = extract_companies(row['title_cl'])\n",
    "            companies = [company for company in companies if company.lower() != primary_company.lower()]\n",
    "            companies_within_document.extend(companies)\n",
    "    return Counter(companies_within_document)\n",
    "\n",
    "primary_company = \"Ford\"\n",
    "\n",
    "companies_within_document_freq = find_companies_within_document(news_df, primary_company)\n",
    "\n",
    "top_companies_within_document = companies_within_document_freq.most_common(10)\n",
    "\n",
    "print(\"\\nCompanies mentioned most frequently within the same document as 'Ford':\")\n",
    "for company, count in top_companies_within_document:\n",
    "    print(f\"{company}: {count}\")\n",
    "\n"
   ]
  },
  {
   "cell_type": "markdown",
   "metadata": {},
   "source": [
    "#### Tweet Text"
   ]
  },
  {
   "cell_type": "code",
   "execution_count": 48,
   "metadata": {},
   "outputs": [
    {
     "name": "stdout",
     "output_type": "stream",
     "text": [
      "\n",
      "Companies mentioned most frequently within the same document as 'Ford':\n",
      "Land Rover: 59\n",
      "Jaguar Land Rover: 36\n",
      "Honda: 30\n",
      "Chevrolet: 29\n",
      "Toyota: 26\n",
      "Dodge: 23\n",
      "Infiniti: 22\n",
      "Tata Motors: 21\n",
      "Jaguar: 20\n",
      "BMW Benz Lexus: 17\n"
     ]
    }
   ],
   "source": [
    "def extract_companies(text):\n",
    "    companies = []\n",
    "    doc = nlp(text)\n",
    "    for ent in doc.ents:\n",
    "        if ent.label_ == \"ORG\":\n",
    "            companies.append(ent.text)\n",
    "    return companies\n",
    "\n",
    "def find_companies_within_document(df, primary_company):\n",
    "    companies_within_document = []\n",
    "    for index, row in df.iterrows():\n",
    "        if primary_company.lower() in row['text_cl'].lower():\n",
    "            companies = extract_companies(row['text_cl'])\n",
    "            companies = [company for company in companies if company.lower() != primary_company.lower()]\n",
    "            companies_within_document.extend(companies)\n",
    "    return Counter(companies_within_document)\n",
    "primary_company = \"Ford\"\n",
    "\n",
    "companies_within_document_freq = find_companies_within_document(tweets_df, primary_company)\n",
    "\n",
    "top_companies_within_document = companies_within_document_freq.most_common(10)\n",
    "\n",
    "print(\"\\nCompanies mentioned most frequently within the same document as 'Ford':\")\n",
    "for company, count in top_companies_within_document:\n",
    "    print(f\"{company}: {count}\")"
   ]
  },
  {
   "cell_type": "code",
   "execution_count": null,
   "metadata": {},
   "outputs": [],
   "source": []
  }
 ],
 "metadata": {
  "kernelspec": {
   "display_name": "Python 3 (ipykernel)",
   "language": "python",
   "name": "python3"
  },
  "language_info": {
   "codemirror_mode": {
    "name": "ipython",
    "version": 3
   },
   "file_extension": ".py",
   "mimetype": "text/x-python",
   "name": "python",
   "nbconvert_exporter": "python",
   "pygments_lexer": "ipython3",
   "version": "3.9.13"
  }
 },
 "nbformat": 4,
 "nbformat_minor": 4
}
